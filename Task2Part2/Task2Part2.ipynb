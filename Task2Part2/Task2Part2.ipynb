{
  "nbformat": 4,
  "nbformat_minor": 0,
  "metadata": {
    "colab": {
      "name": "Task2Part2.ipynb",
      "provenance": [],
      "collapsed_sections": []
    },
    "kernelspec": {
      "name": "python3",
      "display_name": "Python 3"
    },
    "language_info": {
      "name": "python"
    }
  },
  "cells": [
    {
      "cell_type": "markdown",
      "metadata": {
        "id": "SCx-kCo5bh2T"
      },
      "source": [
        "**TASK 2 Part 2 :Training a CNN on the dataset of digits (0-9)**"
      ]
    },
    {
      "cell_type": "markdown",
      "metadata": {
        "id": "-UgV3x8Bb1XT"
      },
      "source": [
        "Mounting drive and collecting colab to it.Dataset has been uploaded to drive "
      ]
    },
    {
      "cell_type": "code",
      "metadata": {
        "colab": {
          "base_uri": "https://localhost:8080/"
        },
        "id": "ls6FFoo8U9u4",
        "outputId": "8b0e396d-5d38-4618-c889-5067d107cb56"
      },
      "source": [
        "from google.colab import drive\n",
        "drive.mount(\"/content/drive\")"
      ],
      "execution_count": null,
      "outputs": [
        {
          "output_type": "stream",
          "text": [
            "Drive already mounted at /content/drive; to attempt to forcibly remount, call drive.mount(\"/content/drive\", force_remount=True).\n"
          ],
          "name": "stdout"
        }
      ]
    },
    {
      "cell_type": "markdown",
      "metadata": {
        "id": "S-sn96NObg7c"
      },
      "source": [
        "Essential Imports "
      ]
    },
    {
      "cell_type": "code",
      "metadata": {
        "id": "PgXgtinVVF71"
      },
      "source": [
        "import numpy as np\n",
        "import matplotlib.pyplot as plt\n",
        "from keras.callbacks import ModelCheckpoint\n",
        "import os\n",
        "from pathlib import Path \n",
        "import shutil\n",
        "from tensorflow.keras.models import load_model\n",
        "from keras.preprocessing import image\n",
        "from keras.utils import to_categorical\n",
        "from keras.models import Sequential\n",
        "from keras.layers import *"
      ],
      "execution_count": null,
      "outputs": []
    },
    {
      "cell_type": "markdown",
      "metadata": {
        "id": "TKL2rIgPdNGz"
      },
      "source": [
        "Analysing directory and its folders using os module "
      ]
    },
    {
      "cell_type": "code",
      "metadata": {
        "id": "hyOMOFjYVdQ7"
      },
      "source": [
        "p=Path(\"/content/drive/MyDrive/mnistTask2/train\")"
      ],
      "execution_count": null,
      "outputs": []
    },
    {
      "cell_type": "code",
      "metadata": {
        "id": "B8BI1ZXMWFXd"
      },
      "source": [
        "dirs = p.glob(\"*\")"
      ],
      "execution_count": null,
      "outputs": []
    },
    {
      "cell_type": "code",
      "metadata": {
        "id": "14ZsEH16WIMS"
      },
      "source": [
        "folders = os.listdir(\"/content/drive/MyDrive/mnistTask2/train\")\n"
      ],
      "execution_count": null,
      "outputs": []
    },
    {
      "cell_type": "markdown",
      "metadata": {
        "id": "-Ug953nvdZDf"
      },
      "source": [
        "Generating labels for the images"
      ]
    },
    {
      "cell_type": "code",
      "metadata": {
        "colab": {
          "base_uri": "https://localhost:8080/"
        },
        "id": "SPUkKpl6Y8Pb",
        "outputId": "fa653fce-cd68-484d-a286-03f949204c6a"
      },
      "source": [
        "for f in dirs :\n",
        "  print (f)\n",
        "  label=str(f).split(\"\\\\\")[-1][47:]\n",
        "  print(label)"
      ],
      "execution_count": null,
      "outputs": [
        {
          "output_type": "stream",
          "text": [
            "/content/drive/MyDrive/mnistTask2/train/Sample006\n",
            "06\n",
            "/content/drive/MyDrive/mnistTask2/train/Sample004\n",
            "04\n",
            "/content/drive/MyDrive/mnistTask2/train/Sample003\n",
            "03\n",
            "/content/drive/MyDrive/mnistTask2/train/Sample007\n",
            "07\n",
            "/content/drive/MyDrive/mnistTask2/train/Sample002\n",
            "02\n",
            "/content/drive/MyDrive/mnistTask2/train/Sample001\n",
            "01\n",
            "/content/drive/MyDrive/mnistTask2/train/Sample010\n",
            "10\n",
            "/content/drive/MyDrive/mnistTask2/train/Sample005\n",
            "05\n",
            "/content/drive/MyDrive/mnistTask2/train/Sample008\n",
            "08\n",
            "/content/drive/MyDrive/mnistTask2/train/Sample009\n",
            "09\n"
          ],
          "name": "stdout"
        }
      ]
    },
    {
      "cell_type": "code",
      "metadata": {
        "colab": {
          "base_uri": "https://localhost:8080/"
        },
        "id": "HaoNWCD9WMmy",
        "outputId": "89267f9c-642a-40b8-f93b-7c9f47a4a920"
      },
      "source": [
        "print(folders)"
      ],
      "execution_count": null,
      "outputs": [
        {
          "output_type": "stream",
          "text": [
            "['Sample006', 'Sample004', 'Sample003', 'Sample007', 'Sample002', 'Sample001', 'Sample010', 'Sample005', 'Sample008', 'Sample009']\n"
          ],
          "name": "stdout"
        }
      ]
    },
    {
      "cell_type": "markdown",
      "metadata": {
        "id": "XKTaVyVHdgki"
      },
      "source": [
        "Below is the code to see the number of images in each folder"
      ]
    },
    {
      "cell_type": "code",
      "metadata": {
        "colab": {
          "base_uri": "https://localhost:8080/"
        },
        "id": "I6wXlQ9mXKKr",
        "outputId": "6095e821-4915-4ba8-cb2d-3a83df5854b8"
      },
      "source": [
        "for f in folders:\n",
        "  path = \"/content/drive/MyDrive/mnistTask2/train/\" + f\n",
        "  print(len(os.listdir(path)))"
      ],
      "execution_count": null,
      "outputs": [
        {
          "output_type": "stream",
          "text": [
            "40\n",
            "40\n",
            "40\n",
            "40\n",
            "40\n",
            "40\n",
            "40\n",
            "40\n",
            "40\n",
            "40\n"
          ],
          "name": "stdout"
        }
      ]
    },
    {
      "cell_type": "markdown",
      "metadata": {
        "id": "ipcMfqdSduJW"
      },
      "source": [
        "**Data Preprocessing**\n",
        "> **Steps are -**\n",
        "1. Generating correct labels according to digits and converting to integer.\n",
        "2. Used keras \"image\" module to load images and images to array conversion so as to feed these images to model.  \n",
        "3. Converting to grayscale and reshaping to 28x28. \n",
        "> Grayscale conversion has been done because at the end I have to compare the results with the mnist dataset which is a grayscale images dataset with 28x28 dimensional images.Also with 900 x 1200 which is the actual size of images,  huge sparse array for each image got generated.\n",
        "4. Normalisation by dividing by 255 such that pixel values come under the range of 0-1.   \n",
        "5. Finally appending images and labels in separate lists."
      ]
    },
    {
      "cell_type": "code",
      "metadata": {
        "id": "WBR12rBIXjhv",
        "colab": {
          "base_uri": "https://localhost:8080/"
        },
        "outputId": "8453232d-ac3e-47ad-a158-9243bfc3a936"
      },
      "source": [
        "images=[]\n",
        "labels=[]\n",
        "\n",
        "for folder_name in dirs :\n",
        "  label=str(folder_name).split(\"\\\\\")[-1][47:]\n",
        "  label =  int(label)-1 \n",
        "  print(label)\n",
        "  for img_path in folder_name.glob(\"*.png\"):\n",
        "    labels.append(label)\n",
        "    data1 = image.load_img(img_path , color_mode=\"grayscale\" , target_size =(28,28))\n",
        "    img_array = image.img_to_array(data1)/255.0\n",
        "\n",
        "    images.append(img_array)\n",
        "    \n",
        "    "
      ],
      "execution_count": null,
      "outputs": [
        {
          "output_type": "stream",
          "text": [
            "5\n",
            "3\n",
            "2\n",
            "6\n",
            "1\n",
            "0\n",
            "9\n",
            "4\n",
            "7\n",
            "8\n"
          ],
          "name": "stdout"
        }
      ]
    },
    {
      "cell_type": "markdown",
      "metadata": {
        "id": "SwQsG4txedZ0"
      },
      "source": [
        "Converting to numpy array so as to further save it as a .npy file having proper images and labels"
      ]
    },
    {
      "cell_type": "code",
      "metadata": {
        "id": "Vw9MUedA52aO"
      },
      "source": [
        "images = np.asarray(images)\n",
        "labels =np.asarray(labels)"
      ],
      "execution_count": null,
      "outputs": []
    },
    {
      "cell_type": "code",
      "metadata": {
        "id": "TvVu2Vnh6IKg"
      },
      "source": [
        "np.save('/content/drive/MyDrive/images0-9.npy' , images)\n",
        "np.save('/content/drive/MyDrive/labels0-9.npy' , labels)"
      ],
      "execution_count": null,
      "outputs": []
    },
    {
      "cell_type": "markdown",
      "metadata": {
        "id": "TbcM96Koe8_p"
      },
      "source": [
        "Loading the saved .npy files"
      ]
    },
    {
      "cell_type": "code",
      "metadata": {
        "id": "Y9fYppCgwFLj"
      },
      "source": [
        "images = np.load('/content/drive/MyDrive/images0-9.npy')\n",
        "labels = np.load('/content/drive/MyDrive/labels0-9.npy')\n"
      ],
      "execution_count": null,
      "outputs": []
    },
    {
      "cell_type": "markdown",
      "metadata": {
        "id": "AF5TlZOxfDiE"
      },
      "source": [
        "Shuffling the images for generalisation and avoiding overfitting  "
      ]
    },
    {
      "cell_type": "code",
      "metadata": {
        "id": "KQ724Fiw52WX"
      },
      "source": [
        "def shuffle_in_unison(a, b):\n",
        "    assert len(a) == len(b)\n",
        "    shuffled_a = np.empty(a.shape, dtype=a.dtype)\n",
        "    shuffled_b = np.empty(b.shape, dtype=b.dtype)\n",
        "    permutation = np.random.permutation(len(a))\n",
        "    for old_index, new_index in enumerate(permutation):\n",
        "        shuffled_a[new_index] = a[old_index]\n",
        "        shuffled_b[new_index] = b[old_index]\n",
        "    return shuffled_a, shuffled_b"
      ],
      "execution_count": null,
      "outputs": []
    },
    {
      "cell_type": "code",
      "metadata": {
        "id": "JFeZ0V1-52Tb"
      },
      "source": [
        "s_images,s_labels= shuffle_in_unison(images, labels)"
      ],
      "execution_count": null,
      "outputs": []
    },
    {
      "cell_type": "markdown",
      "metadata": {
        "id": "6vZojD7ifRo5"
      },
      "source": [
        "Plotting images with their labels to be sure after shuffling "
      ]
    },
    {
      "cell_type": "code",
      "metadata": {
        "id": "342JxMfZrtC0"
      },
      "source": [
        "def drawImg(x,y):\n",
        "  for i in range(1,3):\n",
        "    print(y[i])\n",
        "    plt.imshow(x[i].reshape(28,28))\n",
        "    plt.show()"
      ],
      "execution_count": null,
      "outputs": []
    },
    {
      "cell_type": "code",
      "metadata": {
        "colab": {
          "base_uri": "https://localhost:8080/",
          "height": 546
        },
        "id": "L_O5ouQ5sNJz",
        "outputId": "ddba922c-3963-4d47-8491-900bd896a5a2"
      },
      "source": [
        "drawImg(s_images, s_labels)"
      ],
      "execution_count": null,
      "outputs": [
        {
          "output_type": "stream",
          "text": [
            "9\n"
          ],
          "name": "stdout"
        },
        {
          "output_type": "display_data",
          "data": {
            "image/png": "[encoded data removed]",
            "text/plain": [
              "<Figure size 432x288 with 1 Axes>"
            ]
          },
          "metadata": {
            "tags": [],
            "needs_background": "light"
          }
        },
        {
          "output_type": "stream",
          "text": [
            "7\n"
          ],
          "name": "stdout"
        },
        {
          "output_type": "display_data",
          "data": {
            "image/png": "[encoded data removed]",
            "text/plain": [
              "<Figure size 432x288 with 1 Axes>"
            ]
          },
          "metadata": {
            "tags": [],
            "needs_background": "light"
          }
        }
      ]
    },
    {
      "cell_type": "markdown",
      "metadata": {
        "id": "JbELZjBwfZPS"
      },
      "source": [
        "Analysing the shapes of images and labels to be fed to the model"
      ]
    },
    {
      "cell_type": "code",
      "metadata": {
        "colab": {
          "base_uri": "https://localhost:8080/"
        },
        "id": "8BefUCyu52MR",
        "outputId": "0c4654da-0b91-4137-daed-91938535c428"
      },
      "source": [
        "s_images.shape"
      ],
      "execution_count": null,
      "outputs": [
        {
          "output_type": "execute_result",
          "data": {
            "text/plain": [
              "(400, 28, 28, 1)"
            ]
          },
          "metadata": {
            "tags": []
          },
          "execution_count": 13
        }
      ]
    },
    {
      "cell_type": "code",
      "metadata": {
        "colab": {
          "base_uri": "https://localhost:8080/"
        },
        "id": "o4XHl1j652Ji",
        "outputId": "ca214e00-c829-49a2-9819-e1058a5c10c6"
      },
      "source": [
        "s_labels"
      ],
      "execution_count": null,
      "outputs": [
        {
          "output_type": "execute_result",
          "data": {
            "text/plain": [
              "array([7, 9, 7, 7, 6, 1, 1, 8, 9, 1, 1, 8, 5, 3, 7, 7, 1, 7, 0, 1, 2, 0,\n",
              "       0, 2, 0, 5, 4, 2, 8, 0, 8, 7, 9, 7, 4, 9, 3, 1, 1, 8, 5, 3, 6, 2,\n",
              "       8, 3, 8, 5, 2, 3, 6, 4, 5, 2, 6, 8, 1, 0, 9, 2, 7, 9, 7, 2, 5, 3,\n",
              "       8, 9, 4, 6, 4, 1, 5, 4, 4, 2, 7, 5, 1, 6, 6, 9, 6, 7, 3, 0, 1, 2,\n",
              "       3, 7, 4, 5, 7, 8, 2, 6, 6, 1, 6, 4, 3, 5, 6, 5, 2, 3, 6, 8, 0, 6,\n",
              "       9, 1, 1, 1, 2, 6, 4, 3, 1, 9, 8, 0, 3, 9, 4, 9, 9, 2, 8, 6, 2, 3,\n",
              "       0, 0, 4, 9, 3, 1, 2, 0, 0, 2, 0, 7, 1, 3, 4, 7, 7, 0, 5, 2, 6, 5,\n",
              "       4, 6, 8, 9, 0, 6, 1, 1, 4, 1, 7, 2, 1, 4, 9, 5, 3, 9, 8, 5, 4, 8,\n",
              "       9, 5, 9, 1, 1, 3, 6, 5, 7, 0, 2, 3, 7, 8, 6, 7, 0, 0, 5, 4, 6, 3,\n",
              "       8, 5, 2, 1, 5, 3, 3, 0, 9, 6, 8, 5, 9, 1, 9, 7, 0, 2, 3, 3, 2, 8,\n",
              "       4, 0, 3, 8, 0, 4, 6, 4, 4, 0, 4, 5, 2, 6, 5, 2, 2, 7, 2, 3, 9, 4,\n",
              "       2, 4, 0, 8, 7, 5, 6, 7, 1, 8, 5, 1, 8, 7, 3, 6, 6, 6, 9, 0, 3, 9,\n",
              "       9, 3, 5, 7, 0, 1, 1, 7, 6, 6, 4, 1, 5, 6, 4, 2, 5, 5, 0, 9, 4, 2,\n",
              "       5, 7, 7, 0, 9, 8, 9, 5, 7, 0, 6, 8, 7, 0, 4, 8, 7, 1, 4, 1, 8, 1,\n",
              "       3, 6, 7, 3, 6, 2, 8, 9, 8, 0, 7, 5, 4, 5, 4, 5, 0, 7, 6, 8, 4, 4,\n",
              "       5, 7, 3, 8, 1, 0, 3, 0, 2, 0, 8, 9, 8, 0, 1, 0, 3, 2, 7, 9, 8, 5,\n",
              "       9, 4, 7, 2, 5, 8, 2, 2, 4, 4, 8, 9, 7, 0, 9, 3, 3, 2, 3, 6, 1, 8,\n",
              "       1, 6, 9, 2, 0, 4, 9, 6, 3, 3, 4, 9, 5, 8, 1, 4, 3, 3, 5, 2, 6, 8,\n",
              "       9, 9, 2, 5])"
            ]
          },
          "metadata": {
            "tags": []
          },
          "execution_count": 14
        }
      ]
    },
    {
      "cell_type": "markdown",
      "metadata": {
        "id": "qaFVp6rAfm2m"
      },
      "source": [
        "Making one-hot encoder of the labels to be fed to the CNN model "
      ]
    },
    {
      "cell_type": "code",
      "metadata": {
        "id": "Nj_Wqvqm52Dj"
      },
      "source": [
        "s_labels = to_categorical(s_labels)"
      ],
      "execution_count": null,
      "outputs": []
    },
    {
      "cell_type": "code",
      "metadata": {
        "id": "Waae57BoYnar",
        "colab": {
          "base_uri": "https://localhost:8080/"
        },
        "outputId": "6fa7b9a4-d3a3-4fc4-f8eb-d0b812f9ad3d"
      },
      "source": [
        "print(s_labels.shape)"
      ],
      "execution_count": null,
      "outputs": [
        {
          "output_type": "stream",
          "text": [
            "(400, 10)\n"
          ],
          "name": "stdout"
        }
      ]
    },
    {
      "cell_type": "code",
      "metadata": {
        "colab": {
          "base_uri": "https://localhost:8080/"
        },
        "id": "Xqr76zZk9KTq",
        "outputId": "c813968d-781d-43e7-b243-2ca5f77d930d"
      },
      "source": [
        "print(s_labels)"
      ],
      "execution_count": null,
      "outputs": [
        {
          "output_type": "stream",
          "text": [
            "[[0. 0. 0. ... 1. 0. 0.]\n",
            " [0. 0. 0. ... 0. 0. 1.]\n",
            " [0. 0. 0. ... 1. 0. 0.]\n",
            " ...\n",
            " [0. 0. 0. ... 0. 0. 1.]\n",
            " [0. 0. 1. ... 0. 0. 0.]\n",
            " [0. 0. 0. ... 0. 0. 0.]]\n"
          ],
          "name": "stdout"
        }
      ]
    },
    {
      "cell_type": "markdown",
      "metadata": {
        "id": "J_7urlqlBL6Z"
      },
      "source": [
        "**Proposed Model**\n",
        "> 1.Since the dataset contains digit and alphabets images unlike complex images, thus I focus to make a simple model od 3 hidden layers and a dense layer at the end with neurons = number of classes."
      ]
    },
    {
      "cell_type": "code",
      "metadata": {
        "id": "GR3IzvsV9ZXI"
      },
      "source": [
        "model = Sequential()\n",
        "model.add(Conv2D(32 , (3,3) , activation = 'relu' , input_shape =(28,28,1)))\n",
        "model.add(MaxPool2D((2,2)))\n",
        "model.add(Conv2D(64 , (3,3),activation ='relu'  ))\n",
        "model.add(MaxPool2D((2,2)))\n",
        "model.add(Conv2D(32,(3,3) , activation= 'relu' ))\n",
        "model.add(MaxPool2D((2,2)))\n",
        " \n",
        " \n",
        "model.add(Flatten())\n",
        " \n",
        "model.add(Dense (10 ,activation ='softmax'))"
      ],
      "execution_count": null,
      "outputs": []
    },
    {
      "cell_type": "markdown",
      "metadata": {
        "id": "llUSbUZGBddG"
      },
      "source": [
        "**Final Compilation and Training**\n",
        "> Compilation and checkpoint based on Validation Accuracy \n",
        "\n",
        "> Loss is taken as categorical_cross entropy because there are more than 2 classes.\n"
      ]
    },
    {
      "cell_type": "code",
      "metadata": {
        "id": "G4Zf-cin9mAi"
      },
      "source": [
        "model.compile(optimizer='adam' , loss = 'categorical_crossentropy' , metrics = ['accuracy'])"
      ],
      "execution_count": null,
      "outputs": []
    },
    {
      "cell_type": "code",
      "metadata": {
        "colab": {
          "base_uri": "https://localhost:8080/"
        },
        "id": "75Yb-fIZgA0Y",
        "outputId": "2a9e92c3-e907-4dac-9d28-833738028dc0"
      },
      "source": [
        "checkpoint = ModelCheckpoint(\"best_model.h5\" , monitor ='val_accuracy' ,verbose =0 , save_best_only =True , save_weights_only =False, mode='auto', period=1 )\n",
        "\n"
      ],
      "execution_count": null,
      "outputs": [
        {
          "output_type": "stream",
          "text": [
            "WARNING:tensorflow:`period` argument is deprecated. Please use `save_freq` to specify the frequency in number of batches seen.\n"
          ],
          "name": "stdout"
        }
      ]
    },
    {
      "cell_type": "code",
      "metadata": {
        "colab": {
          "base_uri": "https://localhost:8080/"
        },
        "id": "7FYa2ZqO9qo1",
        "outputId": "3af379c5-9b02-4ebc-a17c-dc48bbf19765"
      },
      "source": [
        "model.fit(s_images , s_labels,validation_split =0.1, epochs = 25 , batch_size=16, callbacks=[checkpoint])"
      ],
      "execution_count": null,
      "outputs": [
        {
          "output_type": "stream",
          "text": [
            "Epoch 1/25\n",
            "23/23 [==============================] - 1s 38ms/step - loss: 2.3189 - accuracy: 0.0842 - val_loss: 2.2922 - val_accuracy: 0.1750\n",
            "Epoch 2/25\n",
            "23/23 [==============================] - 0s 17ms/step - loss: 2.2758 - accuracy: 0.1649 - val_loss: 2.2482 - val_accuracy: 0.2000\n",
            "Epoch 3/25\n",
            "23/23 [==============================] - 0s 17ms/step - loss: 2.2197 - accuracy: 0.2293 - val_loss: 2.2008 - val_accuracy: 0.3000\n",
            "Epoch 4/25\n",
            "23/23 [==============================] - 0s 17ms/step - loss: 2.1064 - accuracy: 0.2927 - val_loss: 2.0422 - val_accuracy: 0.2250\n",
            "Epoch 5/25\n",
            "23/23 [==============================] - 0s 19ms/step - loss: 1.9504 - accuracy: 0.3582 - val_loss: 1.7782 - val_accuracy: 0.3750\n",
            "Epoch 6/25\n",
            "23/23 [==============================] - 0s 18ms/step - loss: 1.6736 - accuracy: 0.5806 - val_loss: 1.5737 - val_accuracy: 0.5750\n",
            "Epoch 7/25\n",
            "23/23 [==============================] - 0s 18ms/step - loss: 1.3745 - accuracy: 0.6318 - val_loss: 1.3523 - val_accuracy: 0.5500\n",
            "Epoch 8/25\n",
            "23/23 [==============================] - 0s 18ms/step - loss: 1.1895 - accuracy: 0.6687 - val_loss: 1.2208 - val_accuracy: 0.5250\n",
            "Epoch 9/25\n",
            "23/23 [==============================] - 0s 19ms/step - loss: 0.9991 - accuracy: 0.7209 - val_loss: 0.9585 - val_accuracy: 0.7500\n",
            "Epoch 10/25\n",
            "23/23 [==============================] - 0s 17ms/step - loss: 0.7762 - accuracy: 0.8148 - val_loss: 0.9966 - val_accuracy: 0.6500\n",
            "Epoch 11/25\n",
            "23/23 [==============================] - 0s 18ms/step - loss: 0.7280 - accuracy: 0.8231 - val_loss: 0.7154 - val_accuracy: 0.8250\n",
            "Epoch 12/25\n",
            "23/23 [==============================] - 0s 18ms/step - loss: 0.5787 - accuracy: 0.8665 - val_loss: 0.7392 - val_accuracy: 0.8000\n",
            "Epoch 13/25\n",
            "23/23 [==============================] - 0s 17ms/step - loss: 0.5305 - accuracy: 0.8837 - val_loss: 0.6235 - val_accuracy: 0.8750\n",
            "Epoch 14/25\n",
            "23/23 [==============================] - 0s 19ms/step - loss: 0.4666 - accuracy: 0.8650 - val_loss: 0.5879 - val_accuracy: 0.8250\n",
            "Epoch 15/25\n",
            "23/23 [==============================] - 0s 18ms/step - loss: 0.4480 - accuracy: 0.9003 - val_loss: 0.6180 - val_accuracy: 0.8000\n",
            "Epoch 16/25\n",
            "23/23 [==============================] - 0s 18ms/step - loss: 0.3383 - accuracy: 0.9282 - val_loss: 0.4336 - val_accuracy: 0.8750\n",
            "Epoch 17/25\n",
            "23/23 [==============================] - 0s 18ms/step - loss: 0.3042 - accuracy: 0.9396 - val_loss: 0.4422 - val_accuracy: 0.8500\n",
            "Epoch 18/25\n",
            "23/23 [==============================] - 0s 18ms/step - loss: 0.3106 - accuracy: 0.9204 - val_loss: 0.4395 - val_accuracy: 0.8750\n",
            "Epoch 19/25\n",
            "23/23 [==============================] - 0s 18ms/step - loss: 0.2964 - accuracy: 0.9357 - val_loss: 0.4476 - val_accuracy: 0.8250\n",
            "Epoch 20/25\n",
            "23/23 [==============================] - 0s 17ms/step - loss: 0.2545 - accuracy: 0.9370 - val_loss: 0.4940 - val_accuracy: 0.8750\n",
            "Epoch 21/25\n",
            "23/23 [==============================] - 0s 18ms/step - loss: 0.2358 - accuracy: 0.9315 - val_loss: 0.4683 - val_accuracy: 0.8500\n",
            "Epoch 22/25\n",
            "23/23 [==============================] - 0s 18ms/step - loss: 0.2148 - accuracy: 0.9418 - val_loss: 0.3674 - val_accuracy: 0.9000\n",
            "Epoch 23/25\n",
            "23/23 [==============================] - 0s 17ms/step - loss: 0.1584 - accuracy: 0.9793 - val_loss: 0.3242 - val_accuracy: 0.8750\n",
            "Epoch 24/25\n",
            "23/23 [==============================] - 0s 18ms/step - loss: 0.1484 - accuracy: 0.9838 - val_loss: 0.2735 - val_accuracy: 0.8750\n",
            "Epoch 25/25\n",
            "23/23 [==============================] - 0s 17ms/step - loss: 0.1377 - accuracy: 0.9786 - val_loss: 0.2352 - val_accuracy: 0.9250\n"
          ],
          "name": "stdout"
        },
        {
          "output_type": "execute_result",
          "data": {
            "text/plain": [
              "<tensorflow.python.keras.callbacks.History at 0x7f7ae3033510>"
            ]
          },
          "metadata": {
            "tags": []
          },
          "execution_count": 23
        }
      ]
    },
    {
      "cell_type": "markdown",
      "metadata": {
        "id": "h__ewQ8DL8Ck"
      },
      "source": [
        "**Convergence Time = 465 sec**"
      ]
    },
    {
      "cell_type": "code",
      "metadata": {
        "id": "35-EyBM2-HdA",
        "colab": {
          "base_uri": "https://localhost:8080/"
        },
        "outputId": "71ffcfce-ac89-407f-ff4d-b670cca76b89"
      },
      "source": [
        "model.evaluate(s_images,s_labels)"
      ],
      "execution_count": null,
      "outputs": [
        {
          "output_type": "stream",
          "text": [
            "13/13 [==============================] - 0s 10ms/step - loss: 0.1236 - accuracy: 0.9850\n"
          ],
          "name": "stdout"
        },
        {
          "output_type": "execute_result",
          "data": {
            "text/plain": [
              "[0.12355096638202667, 0.9850000143051147]"
            ]
          },
          "metadata": {
            "tags": []
          },
          "execution_count": 24
        }
      ]
    },
    {
      "cell_type": "markdown",
      "metadata": {
        "id": "pfutAoFUBmQ3"
      },
      "source": [
        "**Comparsion of the results observed on MNIST Dataset**"
      ]
    },
    {
      "cell_type": "markdown",
      "metadata": {
        "id": "RBp8zDrcB476"
      },
      "source": [
        "**1.Performance on Randomly initialised network**"
      ]
    },
    {
      "cell_type": "markdown",
      "metadata": {
        "id": "1mA0WgXYDR9_"
      },
      "source": [
        "Importing MNIST dataset with the standard train_test_split"
      ]
    },
    {
      "cell_type": "code",
      "metadata": {
        "id": "FjX5JbRLpbwe"
      },
      "source": [
        "from keras.datasets import mnist"
      ],
      "execution_count": null,
      "outputs": []
    },
    {
      "cell_type": "markdown",
      "metadata": {
        "id": "R54_vpYvDd5l"
      },
      "source": [
        "**Data Preprocessing**\n",
        "1. Normalising the images \n",
        "2.  One-hot encoding the labels  "
      ]
    },
    {
      "cell_type": "code",
      "metadata": {
        "id": "p5RFI_3XpPbv"
      },
      "source": [
        "def preprocess(x,y):\n",
        "  x=x.reshape((-1,28,28,1))\n",
        "  x = x/255.0\n",
        "  y =to_categorical(y)\n",
        "  return x, y"
      ],
      "execution_count": null,
      "outputs": []
    },
    {
      "cell_type": "code",
      "metadata": {
        "id": "B7VyyDT3pTgP"
      },
      "source": [
        "(x_train,y_train),(x_test,y_test) = mnist.load_data() "
      ],
      "execution_count": null,
      "outputs": []
    },
    {
      "cell_type": "code",
      "metadata": {
        "id": "BwzwdwvkpZhJ"
      },
      "source": [
        "(x_train,y_train) = preprocess(x_train, y_train)"
      ],
      "execution_count": null,
      "outputs": []
    },
    {
      "cell_type": "code",
      "metadata": {
        "id": "xITJSssLYuoJ"
      },
      "source": [
        "def preprocess1(x,y):\n",
        "  x=x.reshape((-1,28,28,1))\n",
        "  x = x/255.0\n",
        "  return x, y"
      ],
      "execution_count": null,
      "outputs": []
    },
    {
      "cell_type": "code",
      "metadata": {
        "id": "fEK7hAIdpok8"
      },
      "source": [
        "(x_test,y_test) = preprocess1(x_test,y_test)"
      ],
      "execution_count": null,
      "outputs": []
    },
    {
      "cell_type": "markdown",
      "metadata": {
        "id": "GrYNF7A3Oyq2"
      },
      "source": [
        "Shuffling the data is a good practice"
      ]
    },
    {
      "cell_type": "code",
      "metadata": {
        "id": "zeoLXa86g2oF"
      },
      "source": [
        "def shuffle_in_unison(a, b):\n",
        "    assert len(a) == len(b)\n",
        "    shuffled_a = np.empty(a.shape, dtype=a.dtype)\n",
        "    shuffled_b = np.empty(b.shape, dtype=b.dtype)\n",
        "    permutation = np.random.permutation(len(a))\n",
        "    for old_index, new_index in enumerate(permutation):\n",
        "        shuffled_a[new_index] = a[old_index]\n",
        "        shuffled_b[new_index] = b[old_index]\n",
        "    return shuffled_a, shuffled_b"
      ],
      "execution_count": null,
      "outputs": []
    },
    {
      "cell_type": "code",
      "metadata": {
        "id": "Eq-97Gm3g3r2"
      },
      "source": [
        "x_train, y_train =shuffle_in_unison(x_train, y_train)"
      ],
      "execution_count": null,
      "outputs": []
    },
    {
      "cell_type": "markdown",
      "metadata": {
        "id": "HDU8IxpjSX3N"
      },
      "source": [
        ""
      ]
    },
    {
      "cell_type": "markdown",
      "metadata": {
        "id": "nlGeXXzdO5On"
      },
      "source": [
        "**Proposed Model**\n",
        "1. Sequential is a keras API which is stack of layers\n",
        "2. Simple 3 layered model with different number of filters and the filter size (3,3)"
      ]
    },
    {
      "cell_type": "code",
      "metadata": {
        "id": "1EQhLPCMlvOv"
      },
      "source": [
        "model = Sequential()\n",
        "model.add(Conv2D(32 , (3,3) , activation = 'relu' , input_shape =(28,28,1)))\n",
        "model.add(MaxPool2D((2,2)))\n",
        "model.add(Conv2D(64 , (3,3),activation ='relu'  ))\n",
        "model.add(MaxPool2D((2,2)))\n",
        "model.add(Conv2D(32,(3,3) , activation= 'relu' ))\n",
        "model.add(MaxPool2D((2,2)))\n",
        " \n",
        " \n",
        "model.add(Flatten())                                             # Not a layer, just flattening the volume into a linear layer of neurons.\n",
        " \n",
        "model.add(Dense (10 ,activation ='softmax'))"
      ],
      "execution_count": null,
      "outputs": []
    },
    {
      "cell_type": "markdown",
      "metadata": {
        "id": "sfFs4S2RPlq5"
      },
      "source": [
        "**Compilation and Final Training\n",
        "Saving the model Checkpoints**"
      ]
    },
    {
      "cell_type": "code",
      "metadata": {
        "id": "6Nc6wZwYl2Hj"
      },
      "source": [
        "model.compile(optimizer='adam' , loss = 'categorical_crossentropy' , metrics = ['accuracy'])"
      ],
      "execution_count": null,
      "outputs": []
    },
    {
      "cell_type": "code",
      "metadata": {
        "colab": {
          "base_uri": "https://localhost:8080/"
        },
        "id": "dVqayL7RAyM3",
        "outputId": "4283f15d-3e48-4286-ed60-e3c2fcd2807e"
      },
      "source": [
        "checkpoint = ModelCheckpoint(\"best_model_mnistR.h5\" , monitor ='val_accuracy' ,verbose =0 , save_best_only =True , save_weights_only =False, mode='auto', period=1 )\n"
      ],
      "execution_count": null,
      "outputs": [
        {
          "output_type": "stream",
          "text": [
            "WARNING:tensorflow:`period` argument is deprecated. Please use `save_freq` to specify the frequency in number of batches seen.\n"
          ],
          "name": "stdout"
        }
      ]
    },
    {
      "cell_type": "code",
      "metadata": {
        "colab": {
          "base_uri": "https://localhost:8080/"
        },
        "id": "-_i-h2FIl9w_",
        "outputId": "78d8afd9-dcd4-4cae-cc20-40a2732af76d"
      },
      "source": [
        "hist = model.fit(x_train , y_train,validation_split =0.1, epochs = 10 , batch_size=16)"
      ],
      "execution_count": null,
      "outputs": [
        {
          "output_type": "stream",
          "text": [
            "Epoch 1/10\n",
            "3375/3375 [==============================] - 49s 14ms/step - loss: 0.4314 - accuracy: 0.8613 - val_loss: 0.0810 - val_accuracy: 0.9767\n",
            "Epoch 2/10\n",
            "3375/3375 [==============================] - 49s 14ms/step - loss: 0.0822 - accuracy: 0.9746 - val_loss: 0.0656 - val_accuracy: 0.9768\n",
            "Epoch 3/10\n",
            "3375/3375 [==============================] - 48s 14ms/step - loss: 0.0576 - accuracy: 0.9817 - val_loss: 0.0652 - val_accuracy: 0.9810\n",
            "Epoch 4/10\n",
            "3375/3375 [==============================] - 48s 14ms/step - loss: 0.0405 - accuracy: 0.9874 - val_loss: 0.0484 - val_accuracy: 0.9852\n",
            "Epoch 5/10\n",
            "3375/3375 [==============================] - 48s 14ms/step - loss: 0.0335 - accuracy: 0.9890 - val_loss: 0.0407 - val_accuracy: 0.9872\n",
            "Epoch 6/10\n",
            "3375/3375 [==============================] - 48s 14ms/step - loss: 0.0262 - accuracy: 0.9921 - val_loss: 0.0404 - val_accuracy: 0.9883\n",
            "Epoch 7/10\n",
            "3375/3375 [==============================] - 48s 14ms/step - loss: 0.0198 - accuracy: 0.9937 - val_loss: 0.0540 - val_accuracy: 0.9842\n",
            "Epoch 8/10\n",
            "3375/3375 [==============================] - 48s 14ms/step - loss: 0.0171 - accuracy: 0.9940 - val_loss: 0.0568 - val_accuracy: 0.9855\n",
            "Epoch 9/10\n",
            "3375/3375 [==============================] - 49s 14ms/step - loss: 0.0163 - accuracy: 0.9948 - val_loss: 0.0536 - val_accuracy: 0.9845\n",
            "Epoch 10/10\n",
            "3375/3375 [==============================] - 49s 14ms/step - loss: 0.0116 - accuracy: 0.9964 - val_loss: 0.0525 - val_accuracy: 0.9843\n"
          ],
          "name": "stdout"
        }
      ]
    },
    {
      "cell_type": "markdown",
      "metadata": {
        "id": "K0EnH0hwQmbu"
      },
      "source": [
        "**Convergence Time : 597 sec**\n"
      ]
    },
    {
      "cell_type": "markdown",
      "metadata": {
        "id": "6iGLrLvkQaNL"
      },
      "source": [
        "**Visualisation**\n",
        "> 1. Plotting the results in terms of accuracy and losses \n"
      ]
    },
    {
      "cell_type": "code",
      "metadata": {
        "colab": {
          "base_uri": "https://localhost:8080/",
          "height": 545
        },
        "id": "od0vpwuzmYHO",
        "outputId": "46b4eba8-98d6-4972-ee82-bb3616455414"
      },
      "source": [
        "import matplotlib.pyplot as plt\n",
        "\n",
        "acc = hist.history['accuracy']\n",
        "val_acc = hist.history['val_accuracy']\n",
        "\n",
        "loss = hist.history['loss']\n",
        "val_loss = hist.history['val_loss']\n",
        "\n",
        "epochs = range(1,len(loss)+1)\n",
        "\n",
        "plt.title(\"Loss vs Epochs\")\n",
        "plt.plot(epochs,loss,label=\"Training Loss\")\n",
        "plt.plot(epochs,val_loss,label=\"Val Loss\")\n",
        "plt.legend()\n",
        "plt.show()\n",
        "\n",
        "\n",
        "\n",
        "plt.title(\"Accuracy vs Epochs\")\n",
        "plt.plot(epochs,acc,label=\"Training Acc\")\n",
        "plt.plot(epochs,val_acc,label=\"Val Acc\")\n",
        "plt.legend()\n",
        "plt.show()"
      ],
      "execution_count": null,
      "outputs": [
        {
          "output_type": "display_data",
          "data": {
            "image/png": "[encoded data removed]",
            "text/plain": [
              "<Figure size 432x288 with 1 Axes>"
            ]
          },
          "metadata": {
            "tags": [],
            "needs_background": "light"
          }
        },
        {
          "output_type": "display_data",
          "data": {
            "image/png": "[encoded data removed]",
            "text/plain": [
              "<Figure size 432x288 with 1 Axes>"
            ]
          },
          "metadata": {
            "tags": [],
            "needs_background": "light"
          }
        }
      ]
    },
    {
      "cell_type": "markdown",
      "metadata": {
        "id": "LuSmiJRuQg4W"
      },
      "source": [
        "Plotting the result in terms of precision recall and f1-score"
      ]
    },
    {
      "cell_type": "code",
      "metadata": {
        "colab": {
          "base_uri": "https://localhost:8080/"
        },
        "id": "og_qD3kzRdNL",
        "outputId": "a6863eca-bd92-4a63-e3c7-523b32231e3a"
      },
      "source": [
        "from sklearn.metrics import classification_report\n",
        "\n",
        "y_pred = model.predict(x_test, batch_size=16, verbose=0)\n",
        "y_pred_bool = np.argmax(y_pred, axis=1)\n",
        "\n",
        "print(classification_report(y_test, y_pred_bool))"
      ],
      "execution_count": null,
      "outputs": [
        {
          "output_type": "stream",
          "text": [
            "              precision    recall  f1-score   support\n",
            "\n",
            "           0       0.99      0.99      0.99       980\n",
            "           1       1.00      0.99      0.99      1135\n",
            "           2       0.99      0.97      0.98      1032\n",
            "           3       0.96      1.00      0.97      1010\n",
            "           4       0.99      0.98      0.99       982\n",
            "           5       0.97      0.98      0.98       892\n",
            "           6       0.99      0.97      0.98       958\n",
            "           7       0.98      0.98      0.98      1028\n",
            "           8       0.98      0.99      0.99       974\n",
            "           9       0.98      0.98      0.98      1009\n",
            "\n",
            "    accuracy                           0.98     10000\n",
            "   macro avg       0.98      0.98      0.98     10000\n",
            "weighted avg       0.98      0.98      0.98     10000\n",
            "\n"
          ],
          "name": "stdout"
        }
      ]
    },
    {
      "cell_type": "markdown",
      "metadata": {
        "id": "o1DcaVDQZLfl"
      },
      "source": [
        "Loading the pre-trained model of part1 dataset of 0-9 training images and testing the mnist dataset on this pre-trained model \n"
      ]
    },
    {
      "cell_type": "code",
      "metadata": {
        "id": "v5TU0fb5YpDL"
      },
      "source": [
        "filepath= \"best_model.h5\"\n",
        "loaded_model = load_model(\n",
        "    filepath,\n",
        "    custom_objects=None,\n",
        "    compile=True\n",
        ")"
      ],
      "execution_count": null,
      "outputs": []
    },
    {
      "cell_type": "markdown",
      "metadata": {
        "id": "1ZJTcY_ubOWL"
      },
      "source": [
        "Again loading the MNIST dataset\n",
        "> **Data Preprocessing** \n",
        "> Steps are \n",
        "1. Reshaping into a volume (since the input to a CNN is Image)\n",
        "2. Normalisation\n",
        "3. One hot encoding of the labels   "
      ]
    },
    {
      "cell_type": "code",
      "metadata": {
        "id": "JhRGDNEpnsCJ"
      },
      "source": [
        "(x1_train,y1_train),(x1_test,y1_test) = mnist.load_data() "
      ],
      "execution_count": null,
      "outputs": []
    },
    {
      "cell_type": "code",
      "metadata": {
        "id": "DZPIhl1knwcU"
      },
      "source": [
        "(x1_train,y1_train) = preprocess(x1_train, y1_train)\n",
        "(x1_test,y1_test) = preprocess1(x1_test, y1_test)"
      ],
      "execution_count": null,
      "outputs": []
    },
    {
      "cell_type": "code",
      "metadata": {
        "id": "DiMteK7ln6aX"
      },
      "source": [
        "x1_train, y1_train =shuffle_in_unison(x1_train, y1_train)"
      ],
      "execution_count": null,
      "outputs": []
    },
    {
      "cell_type": "markdown",
      "metadata": {
        "id": "Z6WcymjXb3YZ"
      },
      "source": [
        "**Compilation, Evaluation and Prediction**\n",
        "\n",
        "\n",
        " "
      ]
    },
    {
      "cell_type": "code",
      "metadata": {
        "id": "-Fxr160Ipyya"
      },
      "source": [
        "loaded_model.compile(optimizer='adam' , loss = 'categorical_crossentropy' , metrics = ['accuracy'])"
      ],
      "execution_count": null,
      "outputs": []
    },
    {
      "cell_type": "code",
      "metadata": {
        "colab": {
          "base_uri": "https://localhost:8080/"
        },
        "id": "FGX_8XbPnYy4",
        "outputId": "8acea098-5661-49bb-a1c9-ddab918a5fe9"
      },
      "source": [
        "# Generate a prediction with loaded model\n",
        "loaded_model.predict(x1_train)"
      ],
      "execution_count": null,
      "outputs": [
        {
          "output_type": "execute_result",
          "data": {
            "text/plain": [
              "array([[7.5778589e-05, 2.3442801e-02, 4.4461906e-01, ..., 5.2632707e-01,\n",
              "        2.2346042e-03, 1.9645453e-03],\n",
              "       [7.7110896e-04, 4.7271072e-07, 1.9451372e-04, ..., 9.9819428e-01,\n",
              "        3.2053729e-05, 7.2009803e-04],\n",
              "       [2.1782913e-08, 1.0371982e-06, 1.8444119e-03, ..., 4.5578945e-05,\n",
              "        1.7648251e-04, 1.7442784e-05],\n",
              "       ...,\n",
              "       [3.1976271e-07, 2.3132211e-03, 9.9755573e-01, ..., 4.4281631e-05,\n",
              "        1.6553198e-05, 4.2740771e-07],\n",
              "       [3.6022466e-05, 1.2246257e-11, 1.5677392e-08, ..., 6.2321112e-13,\n",
              "        1.6231954e-05, 1.8343888e-10],\n",
              "       [2.0396214e-05, 9.9778807e-01, 2.0051450e-05, ..., 2.1030348e-04,\n",
              "        2.8734580e-06, 8.0879806e-07]], dtype=float32)"
            ]
          },
          "metadata": {
            "tags": []
          },
          "execution_count": 71
        }
      ]
    },
    {
      "cell_type": "markdown",
      "metadata": {
        "id": "TDnVVIsWcGYS"
      },
      "source": [
        "**Comparison**\n",
        "1. First evaluation is the evaluation on randomly_initialised model\n",
        "2. Second evaluation is the evaluation on pre-trained model on part1 digit dataset only   "
      ]
    },
    {
      "cell_type": "code",
      "metadata": {
        "colab": {
          "base_uri": "https://localhost:8080/"
        },
        "id": "fO6Tqwmep2fg",
        "outputId": "024a486a-81d7-48a0-b435-1f86e98a152b"
      },
      "source": [
        "model.evaluate(x1_test, y1_test)"
      ],
      "execution_count": null,
      "outputs": [
        {
          "output_type": "stream",
          "text": [
            "313/313 [==============================] - 3s 10ms/step - loss: 0.0644 - accuracy: 0.9860\n"
          ],
          "name": "stdout"
        },
        {
          "output_type": "execute_result",
          "data": {
            "text/plain": [
              "[0.06441128253936768, 0.9860000014305115]"
            ]
          },
          "metadata": {
            "tags": []
          },
          "execution_count": 72
        }
      ]
    },
    {
      "cell_type": "code",
      "metadata": {
        "id": "fYEjCCj0p9eQ",
        "colab": {
          "base_uri": "https://localhost:8080/"
        },
        "outputId": "34e45bc2-beef-461f-cfc6-eb756ccc9e85"
      },
      "source": [
        "loaded_model.evaluate(x1_test, y1_test)"
      ],
      "execution_count": null,
      "outputs": [
        {
          "output_type": "stream",
          "text": [
            "313/313 [==============================] - 3s 10ms/step - loss: 0.1260 - accuracy: 0.9605\n"
          ],
          "name": "stdout"
        },
        {
          "output_type": "execute_result",
          "data": {
            "text/plain": [
              "[0.12598924338817596, 0.9605000019073486]"
            ]
          },
          "metadata": {
            "tags": []
          },
          "execution_count": 73
        }
      ]
    },
    {
      "cell_type": "markdown",
      "metadata": {
        "id": "OQx_H5eGLuv1"
      },
      "source": [
        "**Conclusion**\n",
        "The observation is that the randomly intialised weights on the MNIST shows  higher accuracy(98.60) and half the loss than the pretrained model of subtask 1 on digits only(96.50).\n",
        "\n",
        "> Reason being the features learnt by the model from the dataset of subtask 1 have been learnt more homogenously. Thus is not highly generalised. Also the weights are not being updated through backpropagation like in transfer learning, but only tht MNIST is evaluated on this pretrained model ; whereas in randomly initialised training, model learns MNIST features and thus giving better results in MNIST test_set.\n",
        "\n",
        "   \n"
      ]
    },
    {
      "cell_type": "code",
      "metadata": {
        "id": "KOsSXf5vrxeV"
      },
      "source": [
        ""
      ],
      "execution_count": null,
      "outputs": []
    }
  ]
}