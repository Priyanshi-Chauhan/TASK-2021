{
  "nbformat": 4,
  "nbformat_minor": 0,
  "metadata": {
    "colab": {
      "name": "Task2LastPart.ipynb",
      "provenance": [],
      "collapsed_sections": []
    },
    "kernelspec": {
      "name": "python3",
      "display_name": "Python 3"
    },
    "language_info": {
      "name": "python"
    }
  },
  "cells": [
    {
      "cell_type": "markdown",
      "metadata": {
        "id": "n7FGGAyvKUpS"
      },
      "source": [
        "**Aim : To correct the noisy labels of the images and then training the correctly labelled dataset. Further evaluating the model on MNIST and conclude the observation**"
      ]
    },
    {
      "cell_type": "markdown",
      "metadata": {
        "id": "K3lkGMYIHaXC"
      },
      "source": [
        "Mounting Drive and connecting to colab to access the saved \".npy\" files of images and labels."
      ]
    },
    {
      "cell_type": "code",
      "metadata": {
        "colab": {
          "base_uri": "https://localhost:8080/"
        },
        "id": "ydlvMJKCL3pG",
        "outputId": "99b07335-2591-4243-de60-36bc9db1ff81"
      },
      "source": [
        "from google.colab import drive\n",
        "drive.mount(\"/content/drive\")"
      ],
      "execution_count": null,
      "outputs": [
        {
          "output_type": "stream",
          "text": [
            "Drive already mounted at /content/drive; to attempt to forcibly remount, call drive.mount(\"/content/drive\", force_remount=True).\n"
          ],
          "name": "stdout"
        }
      ]
    },
    {
      "cell_type": "markdown",
      "metadata": {
        "id": "K1aFsluULAH8"
      },
      "source": [
        "Essential Imports"
      ]
    },
    {
      "cell_type": "code",
      "metadata": {
        "id": "o_ujLeBaMGho"
      },
      "source": [
        "import numpy as np\n",
        "from keras.utils import to_categorical\n",
        "import matplotlib.pyplot as plt\n",
        "from keras.callbacks import ModelCheckpoint\n",
        "import os\n",
        "from pathlib import Path \n",
        "import shutil\n",
        "from tensorflow.keras.models import load_model\n",
        "from keras.preprocessing import image\n",
        "from keras.utils import to_categorical\n",
        "from keras.models import Sequential\n",
        "from keras.layers import *\n",
        "from google.colab import files\n",
        "from IPython.display import Image"
      ],
      "execution_count": 1,
      "outputs": []
    },
    {
      "cell_type": "markdown",
      "metadata": {
        "id": "2HTc6NBoLGbz"
      },
      "source": [
        "Loading saved \".npy\" files of images and labels"
      ]
    },
    {
      "cell_type": "code",
      "metadata": {
        "id": "8yRXTzoQMRX-"
      },
      "source": [
        "images = np.load(\"/content/drive/MyDrive/task3images.npy\")\n",
        "\n",
        "labels = np.load(\"/content/drive/MyDrive/task3labels.npy\")"
      ],
      "execution_count": null,
      "outputs": []
    },
    {
      "cell_type": "code",
      "metadata": {
        "colab": {
          "base_uri": "https://localhost:8080/"
        },
        "id": "3Wce6MfZMSaA",
        "outputId": "372818e7-7308-4f4f-f868-f550ae15049f"
      },
      "source": [
        "print(images.shape, labels.shape)"
      ],
      "execution_count": null,
      "outputs": [
        {
          "output_type": "stream",
          "text": [
            "(60000, 28, 28, 1) (60000,)\n"
          ],
          "name": "stdout"
        }
      ]
    },
    {
      "cell_type": "code",
      "metadata": {
        "id": "pIWzHoH8MYfa"
      },
      "source": [
        "labels =to_categorical(labels)"
      ],
      "execution_count": null,
      "outputs": []
    },
    {
      "cell_type": "markdown",
      "metadata": {
        "id": "A718blK1NWRI"
      },
      "source": [
        "**LABEL CORRECTION**"
      ]
    },
    {
      "cell_type": "markdown",
      "metadata": {
        "id": "fatQCenHLTC5"
      },
      "source": [
        "**To correct the labels, following approach has been implemented.**\n",
        ">**Approach is** - To use the model which was randomly initialised and trained on mnist dataset in part 2 of Task 2.\n",
        "This model will be used to evaluate on the noisy labelled data of part 3.Further from that prediction, the class(0-9) to which this each image has highest probability is chosen as the most appropriate label by me. \n",
        "\n",
        "\n"
      ]
    },
    {
      "cell_type": "markdown",
      "metadata": {
        "id": "s4pZLMs0NotS"
      },
      "source": [
        "Loading trained model on mnist."
      ]
    },
    {
      "cell_type": "code",
      "metadata": {
        "id": "FiNU851_Meum"
      },
      "source": [
        "from tensorflow.keras.models import load_model \n",
        "filepath = \"mnist_randomInit.h5\"\n",
        "loaded_model = load_model(\n",
        "    filepath,\n",
        "    custom_objects=None,\n",
        "    compile=True\n",
        ")"
      ],
      "execution_count": null,
      "outputs": []
    },
    {
      "cell_type": "markdown",
      "metadata": {
        "id": "eFCG4hAPOdQo"
      },
      "source": [
        "Prediction made on images using loaded model"
      ]
    },
    {
      "cell_type": "code",
      "metadata": {
        "id": "ceF7AGjEM6vh"
      },
      "source": [
        "prediction = loaded_model.predict(images)"
      ],
      "execution_count": null,
      "outputs": []
    },
    {
      "cell_type": "markdown",
      "metadata": {
        "id": "0sAOf31lOoVZ"
      },
      "source": [
        "**Below is the probabilities shown of every image to fall in the 9 classes. The highest probability class for every image  is the most correct label.**"
      ]
    },
    {
      "cell_type": "code",
      "metadata": {
        "colab": {
          "base_uri": "https://localhost:8080/"
        },
        "id": "mzDFMNzqM_7i",
        "outputId": "009981d0-655a-439f-f307-bd08a5067622"
      },
      "source": [
        "print(prediction)"
      ],
      "execution_count": null,
      "outputs": [
        {
          "output_type": "stream",
          "text": [
            "[[9.99937177e-01 3.60167235e-07 9.62222202e-06 ... 1.35531025e-06\n",
            "  1.31912918e-06 4.78170368e-05]\n",
            " [2.42365710e-03 9.73129630e-01 1.25459181e-02 ... 4.31724999e-04\n",
            "  2.46477127e-03 1.71529064e-05]\n",
            " [6.88055516e-05 9.99176800e-01 2.00561713e-04 ... 1.08291133e-04\n",
            "  7.06605279e-05 1.19363658e-05]\n",
            " ...\n",
            " [2.66736661e-05 3.92312174e-08 3.65490171e-09 ... 2.55844998e-11\n",
            "  1.21032812e-07 4.05628739e-08]\n",
            " [3.21328262e-05 1.78852770e-03 2.02295603e-03 ... 9.91578579e-01\n",
            "  3.55621305e-05 4.15982399e-03]\n",
            " [2.00779538e-14 5.07790153e-13 7.55843654e-09 ... 1.63035221e-08\n",
            "  2.85750368e-10 1.30888885e-11]]\n"
          ],
          "name": "stdout"
        }
      ]
    },
    {
      "cell_type": "code",
      "metadata": {
        "id": "KQaJ7eRaOR6K"
      },
      "source": [
        "prediction = np.array(prediction)"
      ],
      "execution_count": null,
      "outputs": []
    },
    {
      "cell_type": "markdown",
      "metadata": {
        "id": "NqA6XtXVPwLF"
      },
      "source": [
        "It can be clearly seen that the 1 image of 60000 images has highest probability(9.7312963e-01) to fall in class 1 - i.e. it would be an image of 1  "
      ]
    },
    {
      "cell_type": "code",
      "metadata": {
        "id": "Acr8I41qOY9B",
        "colab": {
          "base_uri": "https://localhost:8080/"
        },
        "outputId": "2c4987ee-6458-4f63-f469-f1ecd1f69c57"
      },
      "source": [
        "prediction[1]"
      ],
      "execution_count": null,
      "outputs": [
        {
          "output_type": "execute_result",
          "data": {
            "text/plain": [
              "array([2.4236571e-03, 9.7312963e-01, 1.2545918e-02, 1.7557750e-05,\n",
              "       7.3396643e-03, 2.0171407e-04, 1.4281193e-03, 4.3172500e-04,\n",
              "       2.4647713e-03, 1.7152906e-05], dtype=float32)"
            ]
          },
          "metadata": {
            "tags": []
          },
          "execution_count": 27
        }
      ]
    },
    {
      "cell_type": "markdown",
      "metadata": {
        "id": "5_B_X7mlQKl-"
      },
      "source": [
        "Plotting the image to be sure."
      ]
    },
    {
      "cell_type": "code",
      "metadata": {
        "colab": {
          "base_uri": "https://localhost:8080/",
          "height": 282
        },
        "id": "N9F5CbQ5PDoo",
        "outputId": "60fa24f0-910f-4406-e9f6-fb09d7dadadb"
      },
      "source": [
        "plt.imshow(images[1].reshape(28,28))"
      ],
      "execution_count": null,
      "outputs": [
        {
          "output_type": "execute_result",
          "data": {
            "text/plain": [
              "<matplotlib.image.AxesImage at 0x7f5e446bc810>"
            ]
          },
          "metadata": {
            "tags": []
          },
          "execution_count": 28
        },
        {
          "output_type": "display_data",
          "data": {
            "image/png": "[encoded data removed]",
            "text/plain": [
              "<Figure size 432x288 with 1 Axes>"
            ]
          },
          "metadata": {
            "tags": [],
            "needs_background": "light"
          }
        }
      ]
    },
    {
      "cell_type": "markdown",
      "metadata": {
        "id": "XvPAxt8ZQbbL"
      },
      "source": [
        "**Making Correct labels by selecting the classes through argmax fun()**\n",
        "> The correct labels are saved as \".npy\" file to be used for training a model \n",
        "\n"
      ]
    },
    {
      "cell_type": "code",
      "metadata": {
        "id": "ajNbAqVPPWX3"
      },
      "source": [
        "y_classes = prediction.argmax(axis=-1)"
      ],
      "execution_count": null,
      "outputs": []
    },
    {
      "cell_type": "code",
      "metadata": {
        "id": "TfSg1nMaP5pq"
      },
      "source": [
        "y_classes=np.array(y_classes)"
      ],
      "execution_count": null,
      "outputs": []
    },
    {
      "cell_type": "code",
      "metadata": {
        "id": "EIYPhwnNP95Q"
      },
      "source": [
        "np.save(\"/content/drive/MyDrive/y_classes.npy\",y_classes)"
      ],
      "execution_count": null,
      "outputs": []
    },
    {
      "cell_type": "code",
      "metadata": {
        "id": "armXlWZvQYDO"
      },
      "source": [
        "y_classes =to_categorical(y_classes)"
      ],
      "execution_count": null,
      "outputs": []
    },
    {
      "cell_type": "code",
      "metadata": {
        "colab": {
          "base_uri": "https://localhost:8080/"
        },
        "id": "HsRvFET5Qcf1",
        "outputId": "772aa14f-94c2-4dce-e92e-038b8f67aaff"
      },
      "source": [
        "y_classes.shape"
      ],
      "execution_count": null,
      "outputs": [
        {
          "output_type": "execute_result",
          "data": {
            "text/plain": [
              "(60000, 10)"
            ]
          },
          "metadata": {
            "tags": []
          },
          "execution_count": 54
        }
      ]
    },
    {
      "cell_type": "markdown",
      "metadata": {
        "id": "NvwtjXY7RCSw"
      },
      "source": [
        "**Introducing a model with simple architecture of 3 hidden layers and a dense layer at the end with reasonable filters and filter size.**"
      ]
    },
    {
      "cell_type": "code",
      "metadata": {
        "id": "aCeP8RpSQ36O"
      },
      "source": [
        "model = Sequential()\n",
        "model.add(Conv2D(32 , (3,3) , activation = 'relu' , input_shape =(28,28,1)))\n",
        "model.add(MaxPool2D((2,2)))\n",
        "model.add(Conv2D(64 , (3,3),activation ='relu'  ))\n",
        "model.add(MaxPool2D((2,2)))\n",
        "model.add(Conv2D(32,(3,3) , activation= 'relu' ))\n",
        "model.add(MaxPool2D((2,2)))\n",
        " \n",
        " \n",
        "model.add(Flatten())\n",
        " \n",
        "model.add(Dense (10 ,activation ='softmax'))"
      ],
      "execution_count": null,
      "outputs": []
    },
    {
      "cell_type": "markdown",
      "metadata": {
        "id": "WZM3oQ-ORVDZ"
      },
      "source": [
        "**Compiling and Training the label corrected dataset and saving model checkpoints**  "
      ]
    },
    {
      "cell_type": "code",
      "metadata": {
        "id": "UtAoWISsTN7p"
      },
      "source": [
        "model.compile(optimizer='adam' , loss = 'categorical_crossentropy' , metrics = ['accuracy'])"
      ],
      "execution_count": null,
      "outputs": []
    },
    {
      "cell_type": "code",
      "metadata": {
        "colab": {
          "base_uri": "https://localhost:8080/"
        },
        "id": "bCqSD6m9T7PY",
        "outputId": "fb2e7e87-f7b4-4dd2-9e5d-ef04740fef6c"
      },
      "source": [
        "checkpoint = ModelCheckpoint(\"best_model.h5\" , monitor ='val_accuracy' ,verbose =0 , save_best_only =True , save_weights_only =False, mode='auto', period=1 )\n",
        "\n"
      ],
      "execution_count": null,
      "outputs": [
        {
          "output_type": "stream",
          "text": [
            "WARNING:tensorflow:`period` argument is deprecated. Please use `save_freq` to specify the frequency in number of batches seen.\n"
          ],
          "name": "stdout"
        }
      ]
    },
    {
      "cell_type": "code",
      "metadata": {
        "colab": {
          "base_uri": "https://localhost:8080/"
        },
        "id": "niBzcrI6UBeb",
        "outputId": "2b7304d7-0c6d-4593-d6b1-ac9177fecdf5"
      },
      "source": [
        "model.fit(images ,y_classes,validation_split =0.1, epochs = 25 , batch_size=16, callbacks=[checkpoint])"
      ],
      "execution_count": null,
      "outputs": [
        {
          "output_type": "stream",
          "text": [
            "Epoch 1/25\n",
            "3375/3375 [==============================] - 62s 18ms/step - loss: 0.4134 - accuracy: 0.8688 - val_loss: 0.0796 - val_accuracy: 0.9753\n",
            "Epoch 2/25\n",
            "3375/3375 [==============================] - 59s 18ms/step - loss: 0.0708 - accuracy: 0.9758 - val_loss: 0.0488 - val_accuracy: 0.9857\n",
            "Epoch 3/25\n",
            "3375/3375 [==============================] - 60s 18ms/step - loss: 0.0472 - accuracy: 0.9840 - val_loss: 0.0471 - val_accuracy: 0.9845\n",
            "Epoch 4/25\n",
            "3375/3375 [==============================] - 60s 18ms/step - loss: 0.0358 - accuracy: 0.9880 - val_loss: 0.0401 - val_accuracy: 0.9858\n",
            "Epoch 5/25\n",
            "3375/3375 [==============================] - 60s 18ms/step - loss: 0.0264 - accuracy: 0.9911 - val_loss: 0.0381 - val_accuracy: 0.9870\n",
            "Epoch 6/25\n",
            "3375/3375 [==============================] - 60s 18ms/step - loss: 0.0215 - accuracy: 0.9927 - val_loss: 0.0330 - val_accuracy: 0.9893\n",
            "Epoch 7/25\n",
            "3375/3375 [==============================] - 60s 18ms/step - loss: 0.0198 - accuracy: 0.9927 - val_loss: 0.0351 - val_accuracy: 0.9882\n",
            "Epoch 8/25\n",
            "3375/3375 [==============================] - 58s 17ms/step - loss: 0.0146 - accuracy: 0.9952 - val_loss: 0.0400 - val_accuracy: 0.9887\n",
            "Epoch 9/25\n",
            "3375/3375 [==============================] - 59s 18ms/step - loss: 0.0124 - accuracy: 0.9956 - val_loss: 0.0409 - val_accuracy: 0.9892\n",
            "Epoch 10/25\n",
            "3375/3375 [==============================] - 59s 18ms/step - loss: 0.0131 - accuracy: 0.9954 - val_loss: 0.0556 - val_accuracy: 0.9865\n",
            "Epoch 11/25\n",
            "3375/3375 [==============================] - 59s 17ms/step - loss: 0.0105 - accuracy: 0.9965 - val_loss: 0.0400 - val_accuracy: 0.9895\n",
            "Epoch 12/25\n",
            "3375/3375 [==============================] - 59s 18ms/step - loss: 0.0083 - accuracy: 0.9974 - val_loss: 0.0559 - val_accuracy: 0.9872\n",
            "Epoch 13/25\n",
            "3375/3375 [==============================] - 59s 17ms/step - loss: 0.0097 - accuracy: 0.9967 - val_loss: 0.0456 - val_accuracy: 0.9883\n",
            "Epoch 14/25\n",
            "3375/3375 [==============================] - 59s 17ms/step - loss: 0.0083 - accuracy: 0.9973 - val_loss: 0.0552 - val_accuracy: 0.9870\n",
            "Epoch 15/25\n",
            "3375/3375 [==============================] - 59s 17ms/step - loss: 0.0077 - accuracy: 0.9974 - val_loss: 0.0554 - val_accuracy: 0.9862\n",
            "Epoch 16/25\n",
            "3375/3375 [==============================] - 59s 17ms/step - loss: 0.0082 - accuracy: 0.9973 - val_loss: 0.0611 - val_accuracy: 0.9867\n",
            "Epoch 17/25\n",
            "3375/3375 [==============================] - 59s 17ms/step - loss: 0.0073 - accuracy: 0.9974 - val_loss: 0.0428 - val_accuracy: 0.9895\n",
            "Epoch 18/25\n",
            "3375/3375 [==============================] - 58s 17ms/step - loss: 0.0072 - accuracy: 0.9979 - val_loss: 0.0554 - val_accuracy: 0.9888\n",
            "Epoch 19/25\n",
            "3375/3375 [==============================] - 58s 17ms/step - loss: 0.0065 - accuracy: 0.9976 - val_loss: 0.0506 - val_accuracy: 0.9887\n",
            "Epoch 20/25\n",
            "3375/3375 [==============================] - 59s 17ms/step - loss: 0.0068 - accuracy: 0.9981 - val_loss: 0.0540 - val_accuracy: 0.9883\n",
            "Epoch 21/25\n",
            "3375/3375 [==============================] - 59s 18ms/step - loss: 0.0066 - accuracy: 0.9976 - val_loss: 0.0535 - val_accuracy: 0.9897\n",
            "Epoch 22/25\n",
            "3375/3375 [==============================] - 58s 17ms/step - loss: 0.0066 - accuracy: 0.9981 - val_loss: 0.0519 - val_accuracy: 0.9905\n",
            "Epoch 23/25\n",
            "3375/3375 [==============================] - 60s 18ms/step - loss: 0.0046 - accuracy: 0.9985 - val_loss: 0.0463 - val_accuracy: 0.9910\n",
            "Epoch 24/25\n",
            "3375/3375 [==============================] - 59s 17ms/step - loss: 0.0053 - accuracy: 0.9982 - val_loss: 0.0662 - val_accuracy: 0.9885\n",
            "Epoch 25/25\n",
            "3375/3375 [==============================] - 58s 17ms/step - loss: 0.0064 - accuracy: 0.9978 - val_loss: 0.0814 - val_accuracy: 0.9868\n"
          ],
          "name": "stdout"
        },
        {
          "output_type": "execute_result",
          "data": {
            "text/plain": [
              "<tensorflow.python.keras.callbacks.History at 0x7f5e44321ed0>"
            ]
          },
          "metadata": {
            "tags": []
          },
          "execution_count": 55
        }
      ]
    },
    {
      "cell_type": "markdown",
      "metadata": {
        "id": "U26BziXhS1Nf"
      },
      "source": [
        "Importing MNIST and preprocessing it"
      ]
    },
    {
      "cell_type": "code",
      "metadata": {
        "id": "JsFDrPsXUVNy"
      },
      "source": [
        "from keras.datasets import mnist"
      ],
      "execution_count": null,
      "outputs": []
    },
    {
      "cell_type": "code",
      "metadata": {
        "colab": {
          "base_uri": "https://localhost:8080/"
        },
        "id": "EgZCein8dXvh",
        "outputId": "f4fbaec4-5577-4ea0-dffb-aa285ec5ef77"
      },
      "source": [
        "(x_train,y_train),(x_test,y_test)=mnist.load_data()"
      ],
      "execution_count": null,
      "outputs": [
        {
          "output_type": "stream",
          "text": [
            "Downloading data from https://storage.googleapis.com/tensorflow/tf-keras-datasets/mnist.npz\n",
            "11493376/11490434 [==============================] - 0s 0us/step\n"
          ],
          "name": "stdout"
        }
      ]
    },
    {
      "cell_type": "code",
      "metadata": {
        "colab": {
          "base_uri": "https://localhost:8080/"
        },
        "id": "LrpLuHiwdkLH",
        "outputId": "d9c2d6c8-a53d-4f0a-88c5-05d5f2c52e31"
      },
      "source": [
        "x_train.shape"
      ],
      "execution_count": null,
      "outputs": [
        {
          "output_type": "execute_result",
          "data": {
            "text/plain": [
              "(60000, 28, 28)"
            ]
          },
          "metadata": {
            "tags": []
          },
          "execution_count": 65
        }
      ]
    },
    {
      "cell_type": "code",
      "metadata": {
        "colab": {
          "base_uri": "https://localhost:8080/"
        },
        "id": "h5aciA6idojq",
        "outputId": "666c730a-bf3e-4d22-e929-135e0525ec8d"
      },
      "source": [
        "y_train.shape"
      ],
      "execution_count": null,
      "outputs": [
        {
          "output_type": "execute_result",
          "data": {
            "text/plain": [
              "(60000,)"
            ]
          },
          "metadata": {
            "tags": []
          },
          "execution_count": 66
        }
      ]
    },
    {
      "cell_type": "code",
      "metadata": {
        "colab": {
          "base_uri": "https://localhost:8080/"
        },
        "id": "bHId2egAdu4D",
        "outputId": "f88f8faa-d982-46f9-cad1-4b390950c912"
      },
      "source": [
        "x_test.shape"
      ],
      "execution_count": null,
      "outputs": [
        {
          "output_type": "execute_result",
          "data": {
            "text/plain": [
              "(10000, 28, 28)"
            ]
          },
          "metadata": {
            "tags": []
          },
          "execution_count": 67
        }
      ]
    },
    {
      "cell_type": "code",
      "metadata": {
        "id": "2M4Zdwwvdyh4"
      },
      "source": [
        "def preprocess(x,y):\n",
        "  x=x.reshape((-1,28,28,1))\n",
        "  x = x/255.0\n",
        "  y =to_categorical(y)\n",
        "  return x, y\n",
        "  "
      ],
      "execution_count": null,
      "outputs": []
    },
    {
      "cell_type": "code",
      "metadata": {
        "id": "X2iKx9R8elDk"
      },
      "source": [
        "(x_train,y_train) = preprocess(x_train, y_train)"
      ],
      "execution_count": null,
      "outputs": []
    },
    {
      "cell_type": "code",
      "metadata": {
        "id": "f1q4qKqkenwi"
      },
      "source": [
        "(x_test,y_test) = preprocess(x_test,y_test)"
      ],
      "execution_count": null,
      "outputs": []
    },
    {
      "cell_type": "markdown",
      "metadata": {
        "id": "8wQkgTziS8Lk"
      },
      "source": [
        "Shuffling the MNIST dataset "
      ]
    },
    {
      "cell_type": "code",
      "metadata": {
        "id": "kjSIbWuIerC9"
      },
      "source": [
        "def shuffle_in_unison(a, b):\n",
        "    assert len(a) == len(b)\n",
        "    shuffled_a = np.empty(a.shape, dtype=a.dtype)\n",
        "    shuffled_b = np.empty(b.shape, dtype=b.dtype)\n",
        "    permutation = np.random.permutation(len(a))\n",
        "    for old_index, new_index in enumerate(permutation):\n",
        "        shuffled_a[new_index] = a[old_index]\n",
        "        shuffled_b[new_index] = b[old_index]\n",
        "    return shuffled_a, shuffled_b"
      ],
      "execution_count": null,
      "outputs": []
    },
    {
      "cell_type": "markdown",
      "metadata": {
        "id": "svH4W7rvTBoT"
      },
      "source": [
        "**Evaluating the performance of above trained model on MNIST** "
      ]
    },
    {
      "cell_type": "code",
      "metadata": {
        "colab": {
          "base_uri": "https://localhost:8080/"
        },
        "id": "-MvF35zwewue",
        "outputId": "b0c74144-2f54-4145-b485-777473ba66dd"
      },
      "source": [
        "model.evaluate(x_train,y_train)"
      ],
      "execution_count": null,
      "outputs": [
        {
          "output_type": "stream",
          "text": [
            "1875/1875 [==============================] - 19s 10ms/step - loss: 0.0966 - accuracy: 0.9909\n"
          ],
          "name": "stdout"
        },
        {
          "output_type": "execute_result",
          "data": {
            "text/plain": [
              "[0.09662701189517975, 0.9909499883651733]"
            ]
          },
          "metadata": {
            "tags": []
          },
          "execution_count": 72
        }
      ]
    },
    {
      "cell_type": "code",
      "metadata": {
        "colab": {
          "base_uri": "https://localhost:8080/"
        },
        "id": "yDKY-E10e4FH",
        "outputId": "7f7a4789-d068-41fd-da12-19b0f8bdd104"
      },
      "source": [
        "model.evaluate(x_test,y_test)"
      ],
      "execution_count": null,
      "outputs": [
        {
          "output_type": "stream",
          "text": [
            "313/313 [==============================] - 3s 10ms/step - loss: 0.1222 - accuracy: 0.9861\n"
          ],
          "name": "stdout"
        },
        {
          "output_type": "execute_result",
          "data": {
            "text/plain": [
              "[0.12224825471639633, 0.9861000180244446]"
            ]
          },
          "metadata": {
            "tags": []
          },
          "execution_count": 73
        }
      ]
    },
    {
      "cell_type": "markdown",
      "metadata": {
        "id": "pPK6FmRlTUR6"
      },
      "source": [
        "The evaluation of MNIST on random Initialised model can be taken from subtask 2 which is given below\n",
        "\n"
      ]
    },
    {
      "cell_type": "code",
      "metadata": {
        "id": "rAd9EVqWe-YB",
        "colab": {
          "base_uri": "https://localhost:8080/",
          "height": 461
        },
        "outputId": "3f102891-24be-4984-a4b8-9b0c50c11bc0"
      },
      "source": [
        "Image(\"images9.PNG\" , width =1200)"
      ],
      "execution_count": 4,
      "outputs": [
        {
          "output_type": "execute_result",
          "data": {
            "image/png": "[encoded data removed]",
            "text/plain": [
              "<IPython.core.display.Image object>"
            ]
          },
          "metadata": {
            "tags": [],
            "image/png": {
              "width": 1200
            }
          },
          "execution_count": 4
        }
      ]
    },
    {
      "cell_type": "markdown",
      "metadata": {
        "id": "WFci2WHIq1gs"
      },
      "source": [
        "**Observation : There is minor difference in the validation accuracies and validation loss is just half in case of randomly initialised model.**\n",
        "\n",
        "\n",
        "> **Conclusion : Randomly initialised model on mnist performs  better a little bit because it is more generalised on MNIST rather than the pretrained on another dataset.**\n",
        "\n",
        "\n",
        " "
      ]
    },
    {
      "cell_type": "code",
      "metadata": {
        "id": "G_UGnpSqqC25"
      },
      "source": [
        "\n"
      ],
      "execution_count": null,
      "outputs": []
    }
  ]
}