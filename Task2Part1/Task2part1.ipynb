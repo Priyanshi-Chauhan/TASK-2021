{
  "nbformat": 4,
  "nbformat_minor": 0,
  "metadata": {
    "colab": {
      "name": "Task2part1.ipynb",
      "provenance": [],
      "collapsed_sections": []
    },
    "kernelspec": {
      "name": "python3",
      "display_name": "Python 3"
    },
    "language_info": {
      "name": "python"
    }
  },
  "cells": [
    {
      "cell_type": "markdown",
      "metadata": {
        "id": "3U7uaoJlXQZp"
      },
      "source": [
        "**TASK 2 : Part 1 :Training a CNN on the dataset of digits and alphabets(both lower case and upper case)**\n"
      ]
    },
    {
      "cell_type": "markdown",
      "metadata": {
        "id": "1vMhOwUaX9WT"
      },
      "source": [
        "Mounting drive and connecting colab to it to access the dataset.\n"
      ]
    },
    {
      "cell_type": "code",
      "metadata": {
        "colab": {
          "base_uri": "https://localhost:8080/"
        },
        "id": "ls6FFoo8U9u4",
        "outputId": "326cde84-a535-4fa2-f1e3-cd7a0c4a333c"
      },
      "source": [
        "from google.colab import drive\n",
        "drive.mount(\"/content/drive\")\n",
        "\n"
      ],
      "execution_count": null,
      "outputs": [
        {
          "output_type": "stream",
          "text": [
            "Drive already mounted at /content/drive; to attempt to forcibly remount, call drive.mount(\"/content/drive\", force_remount=True).\n"
          ],
          "name": "stdout"
        }
      ]
    },
    {
      "cell_type": "markdown",
      "metadata": {
        "id": "q5do-gyWYkLA"
      },
      "source": [
        "Essential Imports\n"
      ]
    },
    {
      "cell_type": "code",
      "metadata": {
        "id": "PgXgtinVVF71"
      },
      "source": [
        "import os\n",
        "from pathlib import Path \n",
        "import shutil\n",
        "from keras.preprocessing import image\n",
        "import numpy as np\n",
        "from keras.utils import to_categorical\n",
        "from keras.models import Sequential\n",
        "from keras.layers import *\n",
        "from keras.callbacks import ModelCheckpoint\n",
        "from keras.callbacks import EarlyStopping"
      ],
      "execution_count": null,
      "outputs": []
    },
    {
      "cell_type": "markdown",
      "metadata": {
        "id": "_3zEpSdbwIP4"
      },
      "source": [
        "Analysis of Directory and associated folders \n"
      ]
    },
    {
      "cell_type": "code",
      "metadata": {
        "id": "hyOMOFjYVdQ7"
      },
      "source": [
        "p=Path(\"/content/drive/MyDrive/mnistpart1/train\")"
      ],
      "execution_count": null,
      "outputs": []
    },
    {
      "cell_type": "code",
      "metadata": {
        "id": "B8BI1ZXMWFXd"
      },
      "source": [
        "dirs = p.glob(\"*\")"
      ],
      "execution_count": null,
      "outputs": []
    },
    {
      "cell_type": "code",
      "metadata": {
        "id": "14ZsEH16WIMS"
      },
      "source": [
        "folders = os.listdir(\"/content/drive/MyDrive/mnistpart1/train\")\n"
      ],
      "execution_count": null,
      "outputs": []
    },
    {
      "cell_type": "markdown",
      "metadata": {
        "id": "VgLmik9JwRCJ"
      },
      "source": [
        "Generating labels out of folders Name"
      ]
    },
    {
      "cell_type": "code",
      "metadata": {
        "colab": {
          "base_uri": "https://localhost:8080/"
        },
        "id": "SPUkKpl6Y8Pb",
        "outputId": "693ef973-0844-4693-a542-e1283511c904"
      },
      "source": [
        "for f in dirs :\n",
        "  print (f)\n",
        "  label=str(f).split(\"\\\\\")[-1][47:]\n",
        "  print(label)"
      ],
      "execution_count": null,
      "outputs": [
        {
          "output_type": "stream",
          "text": [
            "/content/drive/MyDrive/mnistpart1/train/Sample057\n",
            "57\n",
            "/content/drive/MyDrive/mnistpart1/train/Sample059\n",
            "59\n",
            "/content/drive/MyDrive/mnistpart1/train/Sample060\n",
            "60\n",
            "/content/drive/MyDrive/mnistpart1/train/Sample056\n",
            "56\n",
            "/content/drive/MyDrive/mnistpart1/train/Sample061\n",
            "61\n",
            "/content/drive/MyDrive/mnistpart1/train/Sample055\n",
            "55\n",
            "/content/drive/MyDrive/mnistpart1/train/Sample062\n",
            "62\n",
            "/content/drive/MyDrive/mnistpart1/train/Sample053\n",
            "53\n",
            "/content/drive/MyDrive/mnistpart1/train/Sample054\n",
            "54\n",
            "/content/drive/MyDrive/mnistpart1/train/Sample058\n",
            "58\n",
            "/content/drive/MyDrive/mnistpart1/train/Sample043\n",
            "43\n",
            "/content/drive/MyDrive/mnistpart1/train/Sample045\n",
            "45\n",
            "/content/drive/MyDrive/mnistpart1/train/Sample050\n",
            "50\n",
            "/content/drive/MyDrive/mnistpart1/train/Sample051\n",
            "51\n",
            "/content/drive/MyDrive/mnistpart1/train/Sample049\n",
            "49\n",
            "/content/drive/MyDrive/mnistpart1/train/Sample052\n",
            "52\n",
            "/content/drive/MyDrive/mnistpart1/train/Sample046\n",
            "46\n",
            "/content/drive/MyDrive/mnistpart1/train/Sample047\n",
            "47\n",
            "/content/drive/MyDrive/mnistpart1/train/Sample044\n",
            "44\n",
            "/content/drive/MyDrive/mnistpart1/train/Sample048\n",
            "48\n",
            "/content/drive/MyDrive/mnistpart1/train/Sample033\n",
            "33\n",
            "/content/drive/MyDrive/mnistpart1/train/Sample038\n",
            "38\n",
            "/content/drive/MyDrive/mnistpart1/train/Sample039\n",
            "39\n",
            "/content/drive/MyDrive/mnistpart1/train/Sample035\n",
            "35\n",
            "/content/drive/MyDrive/mnistpart1/train/Sample041\n",
            "41\n",
            "/content/drive/MyDrive/mnistpart1/train/Sample036\n",
            "36\n",
            "/content/drive/MyDrive/mnistpart1/train/Sample042\n",
            "42\n",
            "/content/drive/MyDrive/mnistpart1/train/Sample037\n",
            "37\n",
            "/content/drive/MyDrive/mnistpart1/train/Sample034\n",
            "34\n",
            "/content/drive/MyDrive/mnistpart1/train/Sample040\n",
            "40\n",
            "/content/drive/MyDrive/mnistpart1/train/Sample027\n",
            "27\n",
            "/content/drive/MyDrive/mnistpart1/train/Sample025\n",
            "25\n",
            "/content/drive/MyDrive/mnistpart1/train/Sample029\n",
            "29\n",
            "/content/drive/MyDrive/mnistpart1/train/Sample030\n",
            "30\n",
            "/content/drive/MyDrive/mnistpart1/train/Sample031\n",
            "31\n",
            "/content/drive/MyDrive/mnistpart1/train/Sample024\n",
            "24\n",
            "/content/drive/MyDrive/mnistpart1/train/Sample023\n",
            "23\n",
            "/content/drive/MyDrive/mnistpart1/train/Sample032\n",
            "32\n",
            "/content/drive/MyDrive/mnistpart1/train/Sample026\n",
            "26\n",
            "/content/drive/MyDrive/mnistpart1/train/Sample028\n",
            "28\n",
            "/content/drive/MyDrive/mnistpart1/train/Sample013\n",
            "13\n",
            "/content/drive/MyDrive/mnistpart1/train/Sample019\n",
            "19\n",
            "/content/drive/MyDrive/mnistpart1/train/Sample016\n",
            "16\n",
            "/content/drive/MyDrive/mnistpart1/train/Sample014\n",
            "14\n",
            "/content/drive/MyDrive/mnistpart1/train/Sample015\n",
            "15\n",
            "/content/drive/MyDrive/mnistpart1/train/Sample021\n",
            "21\n",
            "/content/drive/MyDrive/mnistpart1/train/Sample018\n",
            "18\n",
            "/content/drive/MyDrive/mnistpart1/train/Sample022\n",
            "22\n",
            "/content/drive/MyDrive/mnistpart1/train/Sample017\n",
            "17\n",
            "/content/drive/MyDrive/mnistpart1/train/Sample020\n",
            "20\n",
            "/content/drive/MyDrive/mnistpart1/train/Sample005\n",
            "05\n",
            "/content/drive/MyDrive/mnistpart1/train/Sample003\n",
            "03\n",
            "/content/drive/MyDrive/mnistpart1/train/Sample011\n",
            "11\n",
            "/content/drive/MyDrive/mnistpart1/train/Sample009\n",
            "09\n",
            "/content/drive/MyDrive/mnistpart1/train/Sample007\n",
            "07\n",
            "/content/drive/MyDrive/mnistpart1/train/Sample012\n",
            "12\n",
            "/content/drive/MyDrive/mnistpart1/train/Sample006\n",
            "06\n",
            "/content/drive/MyDrive/mnistpart1/train/Sample008\n",
            "08\n",
            "/content/drive/MyDrive/mnistpart1/train/Sample004\n",
            "04\n",
            "/content/drive/MyDrive/mnistpart1/train/Sample010\n",
            "10\n",
            "/content/drive/MyDrive/mnistpart1/train/Sample001\n",
            "01\n",
            "/content/drive/MyDrive/mnistpart1/train/Sample002\n",
            "02\n"
          ],
          "name": "stdout"
        }
      ]
    },
    {
      "cell_type": "code",
      "metadata": {
        "colab": {
          "base_uri": "https://localhost:8080/"
        },
        "id": "HaoNWCD9WMmy",
        "outputId": "624927bd-fe53-4285-e01b-6f9ec75430cc"
      },
      "source": [
        "print(folders)"
      ],
      "execution_count": null,
      "outputs": [
        {
          "output_type": "stream",
          "text": [
            "['Sample057', 'Sample059', 'Sample060', 'Sample056', 'Sample061', 'Sample055', 'Sample062', 'Sample053', 'Sample054', 'Sample058', 'Sample043', 'Sample045', 'Sample050', 'Sample051', 'Sample049', 'Sample052', 'Sample046', 'Sample047', 'Sample044', 'Sample048', 'Sample033', 'Sample038', 'Sample039', 'Sample035', 'Sample041', 'Sample036', 'Sample042', 'Sample037', 'Sample034', 'Sample040', 'Sample027', 'Sample025', 'Sample029', 'Sample030', 'Sample031', 'Sample024', 'Sample023', 'Sample032', 'Sample026', 'Sample028', 'Sample013', 'Sample019', 'Sample016', 'Sample014', 'Sample015', 'Sample021', 'Sample018', 'Sample022', 'Sample017', 'Sample020', 'Sample005', 'Sample003', 'Sample011', 'Sample009', 'Sample007', 'Sample012', 'Sample006', 'Sample008', 'Sample004', 'Sample010', 'Sample001', 'Sample002']\n"
          ],
          "name": "stdout"
        }
      ]
    },
    {
      "cell_type": "markdown",
      "metadata": {
        "id": "i3R8o7Wdwbb8"
      },
      "source": [
        "To know the number of images in each folder "
      ]
    },
    {
      "cell_type": "code",
      "metadata": {
        "colab": {
          "base_uri": "https://localhost:8080/"
        },
        "id": "I6wXlQ9mXKKr",
        "outputId": "b5f61e86-a445-42c4-9094-30c3ac8649dd"
      },
      "source": [
        "for f in folders:\n",
        "  path = \"/content/drive/MyDrive/mnistpart1/train/\" + f\n",
        "  print(len(os.listdir(path)))"
      ],
      "execution_count": null,
      "outputs": [
        {
          "output_type": "stream",
          "text": [
            "40\n",
            "40\n",
            "40\n",
            "40\n",
            "40\n",
            "40\n",
            "40\n",
            "40\n",
            "40\n",
            "40\n",
            "40\n",
            "40\n",
            "40\n",
            "40\n",
            "40\n",
            "40\n",
            "40\n",
            "40\n",
            "40\n",
            "40\n",
            "40\n",
            "40\n",
            "40\n",
            "40\n",
            "40\n",
            "40\n",
            "40\n",
            "40\n",
            "40\n",
            "40\n",
            "40\n",
            "40\n",
            "40\n",
            "40\n",
            "40\n",
            "40\n",
            "40\n",
            "40\n",
            "40\n",
            "40\n",
            "40\n",
            "40\n",
            "40\n",
            "40\n",
            "40\n",
            "40\n",
            "40\n",
            "40\n",
            "40\n",
            "40\n",
            "40\n",
            "40\n",
            "40\n",
            "40\n",
            "40\n",
            "40\n",
            "40\n",
            "40\n",
            "40\n",
            "40\n",
            "40\n",
            "40\n"
          ],
          "name": "stdout"
        }
      ]
    },
    {
      "cell_type": "markdown",
      "metadata": {
        "id": "hf1oZvMTsgnx"
      },
      "source": [
        "**Data Preprocessing**\n",
        "**Steps are -**\n",
        "1. Generating labels and converting to integer.\n",
        "2. Used keras \"image\" module to load images and images to array conversion so as to feed these images to model.  \n",
        "3. Converting to grayscale and reshaping to 28x28. \n",
        "> Grayscale conversion has been done because at the end I have to compare the results with the mnist dataset which is a grayscale images dataset with 28x28 dimensional images.Also with 900 x 1200 which is the actual size of image, this whole dataset cannot be fit into the RAM. Also a huge sparse array for each image got generated.\n",
        "4. Normalisation by dividing by 255 such that pixel values come under the range of 0-1.   \n",
        "5. Finally appending the processed images and labels to the list.\n",
        "\n",
        " "
      ]
    },
    {
      "cell_type": "code",
      "metadata": {
        "id": "WBR12rBIXjhv",
        "colab": {
          "base_uri": "https://localhost:8080/"
        },
        "outputId": "2567db73-3a02-4307-ab31-d9c0329fa335"
      },
      "source": [
        "images=[]\n",
        "labels=[]\n",
        "\n",
        "for folder_name in dirs :\n",
        "  label=str(folder_name).split(\"\\\\\")[-1][47:]\n",
        "  print(label)\n",
        "  label =int(label)\n",
        "\n",
        "  for img_path in folder_name.glob(\"*.png\"):\n",
        "    labels.append(label)\n",
        "    data1 = image.load_img(img_path , color_mode=\"grayscale\" , target_size =(28,28))\n",
        "    img_array = image.img_to_array(data1)/255.0\n",
        "\n",
        "    images.append(img_array)\n",
        "    \n",
        "    "
      ],
      "execution_count": null,
      "outputs": [
        {
          "output_type": "stream",
          "text": [
            "57\n",
            "59\n",
            "60\n",
            "56\n",
            "61\n",
            "55\n",
            "62\n",
            "53\n",
            "54\n",
            "58\n",
            "43\n",
            "45\n",
            "50\n",
            "51\n",
            "49\n",
            "52\n",
            "46\n",
            "47\n",
            "44\n",
            "48\n",
            "33\n",
            "38\n",
            "39\n",
            "35\n",
            "41\n",
            "36\n",
            "42\n",
            "37\n",
            "34\n",
            "40\n",
            "27\n",
            "25\n",
            "29\n",
            "30\n",
            "31\n",
            "24\n",
            "23\n",
            "32\n",
            "26\n",
            "28\n",
            "13\n",
            "19\n",
            "16\n",
            "14\n",
            "15\n",
            "21\n",
            "18\n",
            "22\n",
            "17\n",
            "20\n",
            "05\n",
            "03\n",
            "11\n",
            "09\n",
            "07\n",
            "12\n",
            "06\n",
            "08\n",
            "04\n",
            "10\n",
            "01\n",
            "02\n"
          ],
          "name": "stdout"
        }
      ]
    },
    {
      "cell_type": "markdown",
      "metadata": {
        "id": "K0CE1MtzxsiQ"
      },
      "source": [
        "Saving the images and labels in numpy list in \".npy\" file to be used in future without preprocessing "
      ]
    },
    {
      "cell_type": "code",
      "metadata": {
        "id": "Vw9MUedA52aO"
      },
      "source": [
        "images = np.asarray(images)\n",
        "labels =np.asarray(labels)"
      ],
      "execution_count": null,
      "outputs": []
    },
    {
      "cell_type": "code",
      "metadata": {
        "colab": {
          "base_uri": "https://localhost:8080/"
        },
        "id": "lCCM6QAgPkto",
        "outputId": "b4bb9d5c-4b22-4f13-8c0f-5005850cb920"
      },
      "source": [
        "print(images.shape  , labels.shape)"
      ],
      "execution_count": null,
      "outputs": [
        {
          "output_type": "stream",
          "text": [
            "(2480, 28, 28, 1) (2480,)\n"
          ],
          "name": "stdout"
        }
      ]
    },
    {
      "cell_type": "code",
      "metadata": {
        "id": "TvVu2Vnh6IKg"
      },
      "source": [
        "np.save('/content/drive/MyDrive/images_all_28_28.npy' , images)\n",
        "np.save('/content/drive/MyDrive/labels_all_28_28.npy' , labels)"
      ],
      "execution_count": null,
      "outputs": []
    },
    {
      "cell_type": "markdown",
      "metadata": {
        "id": "7HUg33CsvJIi"
      },
      "source": [
        "**Loading of the saved images and labels**\n",
        "\n",
        "\n",
        "\n",
        "\n"
      ]
    },
    {
      "cell_type": "code",
      "metadata": {
        "id": "VEHOgpGzkzI9"
      },
      "source": [
        "import numpy as np\n",
        "images = np.load(\"/content/drive/MyDrive/images_all_28_28.npy\")\n",
        "labels = np.load(\"/content/drive/MyDrive/labels_all_28_28.npy\")"
      ],
      "execution_count": null,
      "outputs": []
    },
    {
      "cell_type": "markdown",
      "metadata": {
        "id": "naM72HWKvef_"
      },
      "source": [
        "Shuffling the labels and images together so that model can learn features more heterogeneously."
      ]
    },
    {
      "cell_type": "code",
      "metadata": {
        "id": "KQ724Fiw52WX"
      },
      "source": [
        "def shuffle_in_unison(a, b):\n",
        "    assert len(a) == len(b)\n",
        "    shuffled_a = np.empty(a.shape, dtype=a.dtype)\n",
        "    shuffled_b = np.empty(b.shape, dtype=b.dtype)\n",
        "    permutation = np.random.permutation(len(a))\n",
        "    for old_index, new_index in enumerate(permutation):\n",
        "        shuffled_a[new_index] = a[old_index]\n",
        "        shuffled_b[new_index] = b[old_index]\n",
        "    return shuffled_a, shuffled_b"
      ],
      "execution_count": null,
      "outputs": []
    },
    {
      "cell_type": "code",
      "metadata": {
        "id": "JFeZ0V1-52Tb"
      },
      "source": [
        "s_images,s_labels= shuffle_in_unison(images, labels)"
      ],
      "execution_count": null,
      "outputs": []
    },
    {
      "cell_type": "code",
      "metadata": {
        "colab": {
          "base_uri": "https://localhost:8080/"
        },
        "id": "8BefUCyu52MR",
        "outputId": "e53a3ab7-660f-4239-881f-98ace8df1fe5"
      },
      "source": [
        "s_images.shape"
      ],
      "execution_count": null,
      "outputs": [
        {
          "output_type": "execute_result",
          "data": {
            "text/plain": [
              "(2480, 28, 28, 1)"
            ]
          },
          "metadata": {
            "tags": []
          },
          "execution_count": 12
        }
      ]
    },
    {
      "cell_type": "code",
      "metadata": {
        "colab": {
          "base_uri": "https://localhost:8080/"
        },
        "id": "o4XHl1j652Ji",
        "outputId": "e80d2348-613d-42f1-bd23-7b24e4dfa30d"
      },
      "source": [
        "s_labels"
      ],
      "execution_count": null,
      "outputs": [
        {
          "output_type": "execute_result",
          "data": {
            "text/plain": [
              "array([23, 32, 29, ..., 28, 44, 39])"
            ]
          },
          "metadata": {
            "tags": []
          },
          "execution_count": 13
        }
      ]
    },
    {
      "cell_type": "code",
      "metadata": {
        "colab": {
          "base_uri": "https://localhost:8080/"
        },
        "id": "MdtnoGSqznCC",
        "outputId": "01616116-a667-4bef-8dfe-3c15c65ff887"
      },
      "source": [
        "s_labels.shape"
      ],
      "execution_count": null,
      "outputs": [
        {
          "output_type": "execute_result",
          "data": {
            "text/plain": [
              "(2480,)"
            ]
          },
          "metadata": {
            "tags": []
          },
          "execution_count": 14
        }
      ]
    },
    {
      "cell_type": "markdown",
      "metadata": {
        "id": "3h2htWmDv4lV"
      },
      "source": [
        "Labels need to be a one-hot encoded vector so as to feed to the CNN model   "
      ]
    },
    {
      "cell_type": "code",
      "metadata": {
        "id": "Nj_Wqvqm52Dj"
      },
      "source": [
        "s_labels = to_categorical(s_labels)"
      ],
      "execution_count": null,
      "outputs": []
    },
    {
      "cell_type": "markdown",
      "metadata": {
        "id": "CtPCLaPrwF1K"
      },
      "source": [
        "One extra column of zeros has got added in the start, Thus deleting it. \n",
        " "
      ]
    },
    {
      "cell_type": "code",
      "metadata": {
        "id": "Waae57BoYnar",
        "colab": {
          "base_uri": "https://localhost:8080/"
        },
        "outputId": "64d361cc-f8f2-496f-e4c1-7df738e7ba1c"
      },
      "source": [
        "print(s_labels.shape)"
      ],
      "execution_count": null,
      "outputs": [
        {
          "output_type": "stream",
          "text": [
            "(2480, 63)\n"
          ],
          "name": "stdout"
        }
      ]
    },
    {
      "cell_type": "code",
      "metadata": {
        "colab": {
          "base_uri": "https://localhost:8080/"
        },
        "id": "Xqr76zZk9KTq",
        "outputId": "eebbff2e-9e1f-4766-f926-cfb16edc6af3"
      },
      "source": [
        "print(s_labels)"
      ],
      "execution_count": null,
      "outputs": [
        {
          "output_type": "stream",
          "text": [
            "[[0. 0. 0. ... 0. 0. 0.]\n",
            " [0. 0. 0. ... 0. 0. 0.]\n",
            " [0. 0. 0. ... 0. 0. 0.]\n",
            " ...\n",
            " [0. 0. 0. ... 0. 0. 0.]\n",
            " [0. 0. 0. ... 0. 0. 0.]\n",
            " [0. 0. 0. ... 0. 0. 0.]]\n"
          ],
          "name": "stdout"
        }
      ]
    },
    {
      "cell_type": "code",
      "metadata": {
        "id": "sB8Zv4NR9NfU"
      },
      "source": [
        "s_labels =np.delete(s_labels,0,1)"
      ],
      "execution_count": null,
      "outputs": []
    },
    {
      "cell_type": "code",
      "metadata": {
        "colab": {
          "base_uri": "https://localhost:8080/"
        },
        "id": "GzeJAUXx-C1_",
        "outputId": "312c5007-f76a-477a-bdf4-222c71c3099e"
      },
      "source": [
        "s_labels.shape"
      ],
      "execution_count": null,
      "outputs": [
        {
          "output_type": "execute_result",
          "data": {
            "text/plain": [
              "(2480, 62)"
            ]
          },
          "metadata": {
            "tags": []
          },
          "execution_count": 19
        }
      ]
    },
    {
      "cell_type": "markdown",
      "metadata": {
        "id": "HCLILbN1wUSt"
      },
      "source": [
        "**Proposed Model**\n",
        "> 1.Since the dataset contains digit and alphabets images unlike complex images, thus I focus to make a simple model od 3 hidden layers and a dense layer at the end with neurons = number of classes.\n",
        "\n",
        ">2.Taken 28x28 shape because the original shape was shooting the parameters to hundred millions and leading to huge overfitting.  \n",
        "\n",
        "\n",
        "\n",
        "\n",
        "\n",
        "\n"
      ]
    },
    {
      "cell_type": "code",
      "metadata": {
        "id": "GR3IzvsV9ZXI",
        "colab": {
          "base_uri": "https://localhost:8080/"
        },
        "outputId": "40a6320a-6200-49ff-e19b-aea611f43d85"
      },
      "source": [
        "model = Sequential()\n",
        "model.add(Conv2D(32 , (3,3) , activation = 'relu' , input_shape =(28,28,1)))\n",
        "model.add(MaxPool2D((2,2)))\n",
        "\n",
        "model.add(Conv2D(64, (3,3),activation ='relu'  ))\n",
        "model.add(MaxPool2D((2,2)))\n",
        "\n",
        "model.add(Conv2D(32,(3,3) , activation= 'relu' ))\n",
        "model.add(MaxPool2D((2,2)))\n",
        " \n",
        "model.add(Flatten())\n",
        "model.add(Dense (62 ,activation ='softmax'))\n",
        "model.summary()"
      ],
      "execution_count": null,
      "outputs": [
        {
          "output_type": "stream",
          "text": [
            "Model: \"sequential\"\n",
            "_________________________________________________________________\n",
            "Layer (type)                 Output Shape              Param #   \n",
            "=================================================================\n",
            "conv2d (Conv2D)              (None, 26, 26, 32)        320       \n",
            "_________________________________________________________________\n",
            "max_pooling2d (MaxPooling2D) (None, 13, 13, 32)        0         \n",
            "_________________________________________________________________\n",
            "conv2d_1 (Conv2D)            (None, 11, 11, 64)        18496     \n",
            "_________________________________________________________________\n",
            "max_pooling2d_1 (MaxPooling2 (None, 5, 5, 64)          0         \n",
            "_________________________________________________________________\n",
            "conv2d_2 (Conv2D)            (None, 3, 3, 32)          18464     \n",
            "_________________________________________________________________\n",
            "max_pooling2d_2 (MaxPooling2 (None, 1, 1, 32)          0         \n",
            "_________________________________________________________________\n",
            "flatten (Flatten)            (None, 32)                0         \n",
            "_________________________________________________________________\n",
            "dense (Dense)                (None, 62)                2046      \n",
            "=================================================================\n",
            "Total params: 39,326\n",
            "Trainable params: 39,326\n",
            "Non-trainable params: 0\n",
            "_________________________________________________________________\n"
          ],
          "name": "stdout"
        }
      ]
    },
    {
      "cell_type": "markdown",
      "metadata": {
        "id": "XP5Te0NgqcK5"
      },
      "source": [
        "**Final Compilation and Training**\n",
        "> Compilation and checkpoint based on Validation Accuracy \n",
        "\n",
        "> Loss is taken as categorical_cross entropy because there are more than 2 classes.\n",
        "\n",
        "\n",
        "\n",
        "\n",
        "\n"
      ]
    },
    {
      "cell_type": "code",
      "metadata": {
        "id": "G4Zf-cin9mAi"
      },
      "source": [
        "model.compile(optimizer='Adam' , loss = 'categorical_crossentropy' , metrics = ['accuracy'])\n"
      ],
      "execution_count": null,
      "outputs": []
    },
    {
      "cell_type": "code",
      "metadata": {
        "colab": {
          "base_uri": "https://localhost:8080/"
        },
        "id": "hbAsDVrcxmk1",
        "outputId": "01b4c91a-87da-4fe2-9cef-c0468d3cb24b"
      },
      "source": [
        "checkpoint = ModelCheckpoint(\"best_model1.h5\" , monitor ='val_accuracy' ,verbose =0 , save_best_only =True , save_weights_only =False, mode='auto', period=1 )\n",
        "\n"
      ],
      "execution_count": null,
      "outputs": [
        {
          "output_type": "stream",
          "text": [
            "WARNING:tensorflow:`period` argument is deprecated. Please use `save_freq` to specify the frequency in number of batches seen.\n"
          ],
          "name": "stdout"
        }
      ]
    },
    {
      "cell_type": "markdown",
      "metadata": {
        "id": "E5QrEWRv9cjl"
      },
      "source": [
        "Validation_split is taken as 0.1 because images are only 2480.\n",
        "Descent number of epochs because the validation accuracy continues to increase after 20th epoch "
      ]
    },
    {
      "cell_type": "code",
      "metadata": {
        "colab": {
          "base_uri": "https://localhost:8080/"
        },
        "id": "7FYa2ZqO9qo1",
        "outputId": "d1b23c1f-ea82-40b4-acd0-de38e5127e13"
      },
      "source": [
        "hist = model.fit(s_images , s_labels,validation_split =0.1, epochs = 30 , batch_size=16,callbacks = [checkpoint])"
      ],
      "execution_count": null,
      "outputs": [
        {
          "output_type": "stream",
          "text": [
            "Epoch 1/30\n",
            "140/140 [==============================] - 4s 24ms/step - loss: 4.1303 - accuracy: 0.0112 - val_loss: 4.1190 - val_accuracy: 0.0363\n",
            "Epoch 2/30\n",
            "140/140 [==============================] - 3s 20ms/step - loss: 4.0732 - accuracy: 0.0411 - val_loss: 3.8133 - val_accuracy: 0.0806\n",
            "Epoch 3/30\n",
            "140/140 [==============================] - 3s 20ms/step - loss: 3.3672 - accuracy: 0.1520 - val_loss: 2.7562 - val_accuracy: 0.2581\n",
            "Epoch 4/30\n",
            "140/140 [==============================] - 3s 20ms/step - loss: 2.3588 - accuracy: 0.3490 - val_loss: 2.2838 - val_accuracy: 0.3427\n",
            "Epoch 5/30\n",
            "140/140 [==============================] - 3s 20ms/step - loss: 1.9470 - accuracy: 0.4560 - val_loss: 1.9611 - val_accuracy: 0.4355\n",
            "Epoch 6/30\n",
            "140/140 [==============================] - 3s 20ms/step - loss: 1.6771 - accuracy: 0.5027 - val_loss: 1.8053 - val_accuracy: 0.4798\n",
            "Epoch 7/30\n",
            "140/140 [==============================] - 3s 21ms/step - loss: 1.3793 - accuracy: 0.5942 - val_loss: 1.7258 - val_accuracy: 0.5081\n",
            "Epoch 8/30\n",
            "140/140 [==============================] - 3s 20ms/step - loss: 1.1850 - accuracy: 0.6525 - val_loss: 1.5962 - val_accuracy: 0.5605\n",
            "Epoch 9/30\n",
            "140/140 [==============================] - 3s 20ms/step - loss: 1.0699 - accuracy: 0.6706 - val_loss: 1.5676 - val_accuracy: 0.5565\n",
            "Epoch 10/30\n",
            "140/140 [==============================] - 3s 20ms/step - loss: 0.9024 - accuracy: 0.7254 - val_loss: 1.5296 - val_accuracy: 0.5806\n",
            "Epoch 11/30\n",
            "140/140 [==============================] - 3s 20ms/step - loss: 0.8403 - accuracy: 0.7437 - val_loss: 1.3476 - val_accuracy: 0.6210\n",
            "Epoch 12/30\n",
            "140/140 [==============================] - 3s 20ms/step - loss: 0.7352 - accuracy: 0.7638 - val_loss: 1.3831 - val_accuracy: 0.6250\n",
            "Epoch 13/30\n",
            "140/140 [==============================] - 3s 20ms/step - loss: 0.6790 - accuracy: 0.7925 - val_loss: 1.4484 - val_accuracy: 0.6089\n",
            "Epoch 14/30\n",
            "140/140 [==============================] - 3s 20ms/step - loss: 0.6308 - accuracy: 0.7984 - val_loss: 1.4536 - val_accuracy: 0.6048\n",
            "Epoch 15/30\n",
            "140/140 [==============================] - 3s 21ms/step - loss: 0.5445 - accuracy: 0.8385 - val_loss: 1.4405 - val_accuracy: 0.6250\n",
            "Epoch 16/30\n",
            "140/140 [==============================] - 3s 20ms/step - loss: 0.5056 - accuracy: 0.8406 - val_loss: 1.3616 - val_accuracy: 0.6290\n",
            "Epoch 17/30\n",
            "140/140 [==============================] - 3s 20ms/step - loss: 0.4387 - accuracy: 0.8598 - val_loss: 1.4510 - val_accuracy: 0.6492\n",
            "Epoch 18/30\n",
            "140/140 [==============================] - 3s 20ms/step - loss: 0.3784 - accuracy: 0.8802 - val_loss: 1.5501 - val_accuracy: 0.6290\n",
            "Epoch 19/30\n",
            "140/140 [==============================] - 3s 19ms/step - loss: 0.3678 - accuracy: 0.8908 - val_loss: 1.4889 - val_accuracy: 0.6411\n",
            "Epoch 20/30\n",
            "140/140 [==============================] - 3s 20ms/step - loss: 0.3073 - accuracy: 0.9205 - val_loss: 1.5514 - val_accuracy: 0.6169\n",
            "Epoch 21/30\n",
            "140/140 [==============================] - 3s 20ms/step - loss: 0.3120 - accuracy: 0.9048 - val_loss: 1.6007 - val_accuracy: 0.6492\n",
            "Epoch 22/30\n",
            "140/140 [==============================] - 3s 20ms/step - loss: 0.2340 - accuracy: 0.9395 - val_loss: 1.5754 - val_accuracy: 0.6613\n",
            "Epoch 23/30\n",
            "140/140 [==============================] - 3s 21ms/step - loss: 0.2286 - accuracy: 0.9409 - val_loss: 1.5556 - val_accuracy: 0.6532\n",
            "Epoch 24/30\n",
            "140/140 [==============================] - 3s 21ms/step - loss: 0.1961 - accuracy: 0.9457 - val_loss: 1.5442 - val_accuracy: 0.6492\n",
            "Epoch 25/30\n",
            "140/140 [==============================] - 3s 21ms/step - loss: 0.1891 - accuracy: 0.9564 - val_loss: 1.6007 - val_accuracy: 0.6573\n",
            "Epoch 26/30\n",
            "140/140 [==============================] - 3s 21ms/step - loss: 0.1508 - accuracy: 0.9668 - val_loss: 1.6491 - val_accuracy: 0.6492\n",
            "Epoch 27/30\n",
            "140/140 [==============================] - 3s 21ms/step - loss: 0.1460 - accuracy: 0.9619 - val_loss: 1.7800 - val_accuracy: 0.6734\n",
            "Epoch 28/30\n",
            "140/140 [==============================] - 3s 21ms/step - loss: 0.1273 - accuracy: 0.9641 - val_loss: 1.7621 - val_accuracy: 0.6492\n",
            "Epoch 29/30\n",
            "140/140 [==============================] - 3s 21ms/step - loss: 0.1001 - accuracy: 0.9837 - val_loss: 1.8839 - val_accuracy: 0.6613\n",
            "Epoch 30/30\n",
            "140/140 [==============================] - 3s 20ms/step - loss: 0.1134 - accuracy: 0.9713 - val_loss: 1.7867 - val_accuracy: 0.6411\n"
          ],
          "name": "stdout"
        }
      ]
    },
    {
      "cell_type": "markdown",
      "metadata": {
        "id": "m1gDtOCa3JWz"
      },
      "source": [
        "**Visualisation**\n",
        "> Plotting the results int terms of accuracy and losses \n",
        "\n",
        "\n"
      ]
    },
    {
      "cell_type": "code",
      "metadata": {
        "id": "35-EyBM2-HdA",
        "colab": {
          "base_uri": "https://localhost:8080/",
          "height": 545
        },
        "outputId": "e5dac96f-c92e-467d-8fd5-9ff284ce2670"
      },
      "source": [
        "import matplotlib.pyplot as plt\n",
        "\n",
        "acc = hist.history['accuracy']\n",
        "val_acc = hist.history['val_accuracy']\n",
        "\n",
        "loss = hist.history['loss']\n",
        "val_loss = hist.history['val_loss']\n",
        "\n",
        "epochs = range(1,len(loss)+1)\n",
        "\n",
        "plt.title(\"Loss vs Epochs\")\n",
        "plt.plot(epochs,loss,label=\"Training Loss\")\n",
        "plt.plot(epochs,val_loss,label=\"Val Loss\")\n",
        "plt.legend()\n",
        "plt.show()\n",
        "\n",
        "\n",
        "\n",
        "plt.title(\"Accuracy vs Epochs\")\n",
        "plt.plot(epochs,acc,label=\"Training Acc\")\n",
        "plt.plot(epochs,val_acc,label=\"Val Acc\")\n",
        "plt.legend()\n",
        "plt.show()"
      ],
      "execution_count": null,
      "outputs": [
        {
          "output_type": "display_data",
          "data": {
            "image/png": "[encoded data removed]",
            "text/plain": [
              "<Figure size 432x288 with 1 Axes>"
            ]
          },
          "metadata": {
            "tags": [],
            "needs_background": "light"
          }
        },
        {
          "output_type": "display_data",
          "data": {
            "image/png": "[encoded data removed]",
            "text/plain": [
              "<Figure size 432x288 with 1 Axes>"
            ]
          },
          "metadata": {
            "tags": [],
            "needs_background": "light"
          }
        }
      ]
    },
    {
      "cell_type": "code",
      "metadata": {
        "colab": {
          "base_uri": "https://localhost:8080/"
        },
        "id": "YZU29pGc3mFs",
        "outputId": "2c22b411-8ef1-40a8-b93b-d40ba7c3b5ef"
      },
      "source": [
        "model.evaluate(s_images, s_labels)"
      ],
      "execution_count": null,
      "outputs": [
        {
          "output_type": "stream",
          "text": [
            "78/78 [==============================] - 1s 9ms/step - loss: 0.2647 - accuracy: 0.9464\n"
          ],
          "name": "stdout"
        },
        {
          "output_type": "execute_result",
          "data": {
            "text/plain": [
              "[0.2647031843662262, 0.9463709592819214]"
            ]
          },
          "metadata": {
            "tags": []
          },
          "execution_count": 25
        }
      ]
    },
    {
      "cell_type": "code",
      "metadata": {
        "id": "6b50BeWk4Wby"
      },
      "source": [
        ""
      ],
      "execution_count": null,
      "outputs": []
    },
    {
      "cell_type": "code",
      "metadata": {
        "id": "apCfgABw4HZu"
      },
      "source": [
        ""
      ],
      "execution_count": null,
      "outputs": []
    },
    {
      "cell_type": "code",
      "metadata": {
        "id": "tDGv50CC4HWz"
      },
      "source": [
        ""
      ],
      "execution_count": null,
      "outputs": []
    }
  ]
}